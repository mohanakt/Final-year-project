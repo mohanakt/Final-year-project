{
 "cells": [
  {
   "cell_type": "markdown",
   "id": "c3c914da",
   "metadata": {},
   "source": [
    "### Import Libraries"
   ]
  },
  {
   "cell_type": "code",
   "execution_count": 1,
   "id": "34d64c34",
   "metadata": {},
   "outputs": [
    {
     "name": "stdout",
     "output_type": "stream",
     "text": [
      "splitted_data\\X_test.csv\n",
      "splitted_data\\X_train.csv\n",
      "splitted_data\\y_test.csv\n",
      "splitted_data\\y_train.csv\n"
     ]
    }
   ],
   "source": [
    "import warnings\n",
    "warnings.filterwarnings(\"ignore\")\n",
    "\n",
    "import pandas as pd\n",
    "import numpy as np\n",
    "import matplotlib.pyplot as plt\n",
    "%matplotlib inline\n",
    "import pickle\n",
    "\n",
    "import os\n",
    "for dirname,_,filenames in os.walk(\"splitted_data\"):\n",
    "    for filename in filenames:\n",
    "        print(os.path.join(dirname,filename))"
   ]
  },
  {
   "cell_type": "markdown",
   "id": "0ab8d17b",
   "metadata": {},
   "source": [
    "### Data Loading"
   ]
  },
  {
   "cell_type": "code",
   "execution_count": 2,
   "id": "5b481226",
   "metadata": {},
   "outputs": [],
   "source": [
    "X_train=pd.read_csv(\"splitted_data/X_train.csv\")\n",
    "X_test=pd.read_csv(\"splitted_data/X_test.csv\")\n",
    "y_train=pd.read_csv(\"splitted_data/y_train.csv\")\n",
    "y_test=pd.read_csv(\"splitted_data/y_test.csv\")"
   ]
  },
  {
   "cell_type": "code",
   "execution_count": 3,
   "id": "983560d3",
   "metadata": {},
   "outputs": [
    {
     "name": "stdout",
     "output_type": "stream",
     "text": [
      "(20000, 41) (5000, 41) (20000, 1) (5000, 1)\n"
     ]
    }
   ],
   "source": [
    "print(X_train.shape,X_test.shape,y_train.shape,y_test.shape)"
   ]
  },
  {
   "cell_type": "code",
   "execution_count": 4,
   "id": "2dfec291",
   "metadata": {},
   "outputs": [
    {
     "data": {
      "text/html": [
       "<div>\n",
       "<style scoped>\n",
       "    .dataframe tbody tr th:only-of-type {\n",
       "        vertical-align: middle;\n",
       "    }\n",
       "\n",
       "    .dataframe tbody tr th {\n",
       "        vertical-align: top;\n",
       "    }\n",
       "\n",
       "    .dataframe thead th {\n",
       "        text-align: right;\n",
       "    }\n",
       "</style>\n",
       "<table border=\"1\" class=\"dataframe\">\n",
       "  <thead>\n",
       "    <tr style=\"text-align: right;\">\n",
       "      <th></th>\n",
       "      <th>duration</th>\n",
       "      <th>protocol_type</th>\n",
       "      <th>service</th>\n",
       "      <th>flag</th>\n",
       "      <th>src_bytes</th>\n",
       "      <th>dst_bytes</th>\n",
       "      <th>land</th>\n",
       "      <th>wrong_fragment</th>\n",
       "      <th>urgent</th>\n",
       "      <th>hot</th>\n",
       "      <th>...</th>\n",
       "      <th>dst_host_count</th>\n",
       "      <th>dst_host_srv_count</th>\n",
       "      <th>dst_host_same_srv_rate</th>\n",
       "      <th>dst_host_diff_srv_rate</th>\n",
       "      <th>dst_host_same_src_port_rate</th>\n",
       "      <th>dst_host_srv_diff_host_rate</th>\n",
       "      <th>dst_host_serror_rate</th>\n",
       "      <th>dst_host_srv_serror_rate</th>\n",
       "      <th>dst_host_rerror_rate</th>\n",
       "      <th>dst_host_srv_rerror_rate</th>\n",
       "    </tr>\n",
       "  </thead>\n",
       "  <tbody>\n",
       "    <tr>\n",
       "      <th>0</th>\n",
       "      <td>0.000000</td>\n",
       "      <td>0.0</td>\n",
       "      <td>0.710145</td>\n",
       "      <td>0.0</td>\n",
       "      <td>0.000000e+00</td>\n",
       "      <td>0.000000e+00</td>\n",
       "      <td>0.0</td>\n",
       "      <td>0.0</td>\n",
       "      <td>0.0</td>\n",
       "      <td>0.0</td>\n",
       "      <td>...</td>\n",
       "      <td>1.000000</td>\n",
       "      <td>0.000000</td>\n",
       "      <td>0.00</td>\n",
       "      <td>1.00</td>\n",
       "      <td>0.0</td>\n",
       "      <td>0.00</td>\n",
       "      <td>0.08</td>\n",
       "      <td>0.0</td>\n",
       "      <td>0.86</td>\n",
       "      <td>1.00</td>\n",
       "    </tr>\n",
       "    <tr>\n",
       "      <th>1</th>\n",
       "      <td>0.000000</td>\n",
       "      <td>0.0</td>\n",
       "      <td>0.347826</td>\n",
       "      <td>0.1</td>\n",
       "      <td>2.282668e-07</td>\n",
       "      <td>2.351257e-07</td>\n",
       "      <td>0.0</td>\n",
       "      <td>0.0</td>\n",
       "      <td>0.0</td>\n",
       "      <td>0.0</td>\n",
       "      <td>...</td>\n",
       "      <td>1.000000</td>\n",
       "      <td>1.000000</td>\n",
       "      <td>1.00</td>\n",
       "      <td>0.00</td>\n",
       "      <td>0.0</td>\n",
       "      <td>0.00</td>\n",
       "      <td>0.00</td>\n",
       "      <td>0.0</td>\n",
       "      <td>0.00</td>\n",
       "      <td>0.00</td>\n",
       "    </tr>\n",
       "    <tr>\n",
       "      <th>2</th>\n",
       "      <td>0.000000</td>\n",
       "      <td>0.0</td>\n",
       "      <td>0.956522</td>\n",
       "      <td>0.3</td>\n",
       "      <td>0.000000e+00</td>\n",
       "      <td>0.000000e+00</td>\n",
       "      <td>0.0</td>\n",
       "      <td>0.0</td>\n",
       "      <td>0.0</td>\n",
       "      <td>0.0</td>\n",
       "      <td>...</td>\n",
       "      <td>1.000000</td>\n",
       "      <td>0.019685</td>\n",
       "      <td>0.02</td>\n",
       "      <td>0.05</td>\n",
       "      <td>0.0</td>\n",
       "      <td>0.00</td>\n",
       "      <td>1.00</td>\n",
       "      <td>1.0</td>\n",
       "      <td>0.00</td>\n",
       "      <td>0.00</td>\n",
       "    </tr>\n",
       "    <tr>\n",
       "      <th>3</th>\n",
       "      <td>0.000000</td>\n",
       "      <td>0.5</td>\n",
       "      <td>0.710145</td>\n",
       "      <td>0.1</td>\n",
       "      <td>7.246566e-10</td>\n",
       "      <td>0.000000e+00</td>\n",
       "      <td>0.0</td>\n",
       "      <td>0.0</td>\n",
       "      <td>0.0</td>\n",
       "      <td>0.0</td>\n",
       "      <td>...</td>\n",
       "      <td>1.000000</td>\n",
       "      <td>0.397638</td>\n",
       "      <td>0.40</td>\n",
       "      <td>0.06</td>\n",
       "      <td>1.0</td>\n",
       "      <td>0.00</td>\n",
       "      <td>0.00</td>\n",
       "      <td>0.0</td>\n",
       "      <td>0.00</td>\n",
       "      <td>0.00</td>\n",
       "    </tr>\n",
       "    <tr>\n",
       "      <th>4</th>\n",
       "      <td>0.000093</td>\n",
       "      <td>0.0</td>\n",
       "      <td>0.275362</td>\n",
       "      <td>0.1</td>\n",
       "      <td>6.029143e-07</td>\n",
       "      <td>0.000000e+00</td>\n",
       "      <td>0.0</td>\n",
       "      <td>0.0</td>\n",
       "      <td>0.0</td>\n",
       "      <td>0.0</td>\n",
       "      <td>...</td>\n",
       "      <td>0.019685</td>\n",
       "      <td>0.177165</td>\n",
       "      <td>1.00</td>\n",
       "      <td>0.00</td>\n",
       "      <td>1.0</td>\n",
       "      <td>0.09</td>\n",
       "      <td>0.00</td>\n",
       "      <td>0.0</td>\n",
       "      <td>0.17</td>\n",
       "      <td>0.02</td>\n",
       "    </tr>\n",
       "  </tbody>\n",
       "</table>\n",
       "<p>5 rows × 41 columns</p>\n",
       "</div>"
      ],
      "text/plain": [
       "   duration  protocol_type   service  flag     src_bytes     dst_bytes  land  \\\n",
       "0  0.000000            0.0  0.710145   0.0  0.000000e+00  0.000000e+00   0.0   \n",
       "1  0.000000            0.0  0.347826   0.1  2.282668e-07  2.351257e-07   0.0   \n",
       "2  0.000000            0.0  0.956522   0.3  0.000000e+00  0.000000e+00   0.0   \n",
       "3  0.000000            0.5  0.710145   0.1  7.246566e-10  0.000000e+00   0.0   \n",
       "4  0.000093            0.0  0.275362   0.1  6.029143e-07  0.000000e+00   0.0   \n",
       "\n",
       "   wrong_fragment  urgent  hot  ...  dst_host_count  dst_host_srv_count  \\\n",
       "0             0.0     0.0  0.0  ...        1.000000            0.000000   \n",
       "1             0.0     0.0  0.0  ...        1.000000            1.000000   \n",
       "2             0.0     0.0  0.0  ...        1.000000            0.019685   \n",
       "3             0.0     0.0  0.0  ...        1.000000            0.397638   \n",
       "4             0.0     0.0  0.0  ...        0.019685            0.177165   \n",
       "\n",
       "   dst_host_same_srv_rate  dst_host_diff_srv_rate  \\\n",
       "0                    0.00                    1.00   \n",
       "1                    1.00                    0.00   \n",
       "2                    0.02                    0.05   \n",
       "3                    0.40                    0.06   \n",
       "4                    1.00                    0.00   \n",
       "\n",
       "   dst_host_same_src_port_rate  dst_host_srv_diff_host_rate  \\\n",
       "0                          0.0                         0.00   \n",
       "1                          0.0                         0.00   \n",
       "2                          0.0                         0.00   \n",
       "3                          1.0                         0.00   \n",
       "4                          1.0                         0.09   \n",
       "\n",
       "   dst_host_serror_rate  dst_host_srv_serror_rate  dst_host_rerror_rate  \\\n",
       "0                  0.08                       0.0                  0.86   \n",
       "1                  0.00                       0.0                  0.00   \n",
       "2                  1.00                       1.0                  0.00   \n",
       "3                  0.00                       0.0                  0.00   \n",
       "4                  0.00                       0.0                  0.17   \n",
       "\n",
       "   dst_host_srv_rerror_rate  \n",
       "0                      1.00  \n",
       "1                      0.00  \n",
       "2                      0.00  \n",
       "3                      0.00  \n",
       "4                      0.02  \n",
       "\n",
       "[5 rows x 41 columns]"
      ]
     },
     "execution_count": 4,
     "metadata": {},
     "output_type": "execute_result"
    }
   ],
   "source": [
    "X_train.head()"
   ]
  },
  {
   "cell_type": "code",
   "execution_count": 5,
   "id": "c678343e",
   "metadata": {},
   "outputs": [
    {
     "data": {
      "text/html": [
       "<div>\n",
       "<style scoped>\n",
       "    .dataframe tbody tr th:only-of-type {\n",
       "        vertical-align: middle;\n",
       "    }\n",
       "\n",
       "    .dataframe tbody tr th {\n",
       "        vertical-align: top;\n",
       "    }\n",
       "\n",
       "    .dataframe thead th {\n",
       "        text-align: right;\n",
       "    }\n",
       "</style>\n",
       "<table border=\"1\" class=\"dataframe\">\n",
       "  <thead>\n",
       "    <tr style=\"text-align: right;\">\n",
       "      <th></th>\n",
       "      <th>duration</th>\n",
       "      <th>protocol_type</th>\n",
       "      <th>service</th>\n",
       "      <th>flag</th>\n",
       "      <th>src_bytes</th>\n",
       "      <th>dst_bytes</th>\n",
       "      <th>land</th>\n",
       "      <th>wrong_fragment</th>\n",
       "      <th>urgent</th>\n",
       "      <th>hot</th>\n",
       "      <th>...</th>\n",
       "      <th>dst_host_count</th>\n",
       "      <th>dst_host_srv_count</th>\n",
       "      <th>dst_host_same_srv_rate</th>\n",
       "      <th>dst_host_diff_srv_rate</th>\n",
       "      <th>dst_host_same_src_port_rate</th>\n",
       "      <th>dst_host_srv_diff_host_rate</th>\n",
       "      <th>dst_host_serror_rate</th>\n",
       "      <th>dst_host_srv_serror_rate</th>\n",
       "      <th>dst_host_rerror_rate</th>\n",
       "      <th>dst_host_srv_rerror_rate</th>\n",
       "    </tr>\n",
       "  </thead>\n",
       "  <tbody>\n",
       "    <tr>\n",
       "      <th>0</th>\n",
       "      <td>0.000000</td>\n",
       "      <td>0.0</td>\n",
       "      <td>0.275362</td>\n",
       "      <td>0.1</td>\n",
       "      <td>2.420353e-07</td>\n",
       "      <td>0.000000</td>\n",
       "      <td>0.0</td>\n",
       "      <td>0.0</td>\n",
       "      <td>0.0</td>\n",
       "      <td>0.000000</td>\n",
       "      <td>...</td>\n",
       "      <td>0.047244</td>\n",
       "      <td>0.153543</td>\n",
       "      <td>1.00</td>\n",
       "      <td>0.00</td>\n",
       "      <td>1.0</td>\n",
       "      <td>0.10</td>\n",
       "      <td>0.00</td>\n",
       "      <td>0.00</td>\n",
       "      <td>0.0</td>\n",
       "      <td>0.0</td>\n",
       "    </tr>\n",
       "    <tr>\n",
       "      <th>1</th>\n",
       "      <td>0.004288</td>\n",
       "      <td>0.0</td>\n",
       "      <td>0.869565</td>\n",
       "      <td>0.1</td>\n",
       "      <td>1.094956e-06</td>\n",
       "      <td>0.000002</td>\n",
       "      <td>0.0</td>\n",
       "      <td>0.0</td>\n",
       "      <td>0.0</td>\n",
       "      <td>0.100000</td>\n",
       "      <td>...</td>\n",
       "      <td>0.000000</td>\n",
       "      <td>0.007874</td>\n",
       "      <td>1.00</td>\n",
       "      <td>0.00</td>\n",
       "      <td>1.0</td>\n",
       "      <td>0.67</td>\n",
       "      <td>0.00</td>\n",
       "      <td>0.00</td>\n",
       "      <td>0.0</td>\n",
       "      <td>0.0</td>\n",
       "    </tr>\n",
       "    <tr>\n",
       "      <th>2</th>\n",
       "      <td>0.000000</td>\n",
       "      <td>0.0</td>\n",
       "      <td>0.275362</td>\n",
       "      <td>0.1</td>\n",
       "      <td>0.000000e+00</td>\n",
       "      <td>0.000002</td>\n",
       "      <td>0.0</td>\n",
       "      <td>0.0</td>\n",
       "      <td>0.0</td>\n",
       "      <td>0.033333</td>\n",
       "      <td>...</td>\n",
       "      <td>0.007874</td>\n",
       "      <td>0.015748</td>\n",
       "      <td>1.00</td>\n",
       "      <td>0.00</td>\n",
       "      <td>1.0</td>\n",
       "      <td>0.40</td>\n",
       "      <td>0.00</td>\n",
       "      <td>0.00</td>\n",
       "      <td>0.0</td>\n",
       "      <td>0.0</td>\n",
       "    </tr>\n",
       "    <tr>\n",
       "      <th>3</th>\n",
       "      <td>0.235970</td>\n",
       "      <td>0.0</td>\n",
       "      <td>0.275362</td>\n",
       "      <td>0.1</td>\n",
       "      <td>7.333525e-07</td>\n",
       "      <td>0.000002</td>\n",
       "      <td>0.0</td>\n",
       "      <td>0.0</td>\n",
       "      <td>0.0</td>\n",
       "      <td>0.633333</td>\n",
       "      <td>...</td>\n",
       "      <td>1.000000</td>\n",
       "      <td>0.051181</td>\n",
       "      <td>0.05</td>\n",
       "      <td>0.02</td>\n",
       "      <td>0.0</td>\n",
       "      <td>0.00</td>\n",
       "      <td>0.16</td>\n",
       "      <td>0.00</td>\n",
       "      <td>0.0</td>\n",
       "      <td>0.0</td>\n",
       "    </tr>\n",
       "    <tr>\n",
       "      <th>4</th>\n",
       "      <td>0.000000</td>\n",
       "      <td>0.0</td>\n",
       "      <td>0.275362</td>\n",
       "      <td>0.1</td>\n",
       "      <td>2.173970e-08</td>\n",
       "      <td>0.000000</td>\n",
       "      <td>0.0</td>\n",
       "      <td>0.0</td>\n",
       "      <td>0.0</td>\n",
       "      <td>0.000000</td>\n",
       "      <td>...</td>\n",
       "      <td>0.015748</td>\n",
       "      <td>0.149606</td>\n",
       "      <td>1.00</td>\n",
       "      <td>0.00</td>\n",
       "      <td>1.0</td>\n",
       "      <td>0.15</td>\n",
       "      <td>0.00</td>\n",
       "      <td>0.03</td>\n",
       "      <td>0.0</td>\n",
       "      <td>0.0</td>\n",
       "    </tr>\n",
       "  </tbody>\n",
       "</table>\n",
       "<p>5 rows × 41 columns</p>\n",
       "</div>"
      ],
      "text/plain": [
       "   duration  protocol_type   service  flag     src_bytes  dst_bytes  land  \\\n",
       "0  0.000000            0.0  0.275362   0.1  2.420353e-07   0.000000   0.0   \n",
       "1  0.004288            0.0  0.869565   0.1  1.094956e-06   0.000002   0.0   \n",
       "2  0.000000            0.0  0.275362   0.1  0.000000e+00   0.000002   0.0   \n",
       "3  0.235970            0.0  0.275362   0.1  7.333525e-07   0.000002   0.0   \n",
       "4  0.000000            0.0  0.275362   0.1  2.173970e-08   0.000000   0.0   \n",
       "\n",
       "   wrong_fragment  urgent       hot  ...  dst_host_count  dst_host_srv_count  \\\n",
       "0             0.0     0.0  0.000000  ...        0.047244            0.153543   \n",
       "1             0.0     0.0  0.100000  ...        0.000000            0.007874   \n",
       "2             0.0     0.0  0.033333  ...        0.007874            0.015748   \n",
       "3             0.0     0.0  0.633333  ...        1.000000            0.051181   \n",
       "4             0.0     0.0  0.000000  ...        0.015748            0.149606   \n",
       "\n",
       "   dst_host_same_srv_rate  dst_host_diff_srv_rate  \\\n",
       "0                    1.00                    0.00   \n",
       "1                    1.00                    0.00   \n",
       "2                    1.00                    0.00   \n",
       "3                    0.05                    0.02   \n",
       "4                    1.00                    0.00   \n",
       "\n",
       "   dst_host_same_src_port_rate  dst_host_srv_diff_host_rate  \\\n",
       "0                          1.0                         0.10   \n",
       "1                          1.0                         0.67   \n",
       "2                          1.0                         0.40   \n",
       "3                          0.0                         0.00   \n",
       "4                          1.0                         0.15   \n",
       "\n",
       "   dst_host_serror_rate  dst_host_srv_serror_rate  dst_host_rerror_rate  \\\n",
       "0                  0.00                      0.00                   0.0   \n",
       "1                  0.00                      0.00                   0.0   \n",
       "2                  0.00                      0.00                   0.0   \n",
       "3                  0.16                      0.00                   0.0   \n",
       "4                  0.00                      0.03                   0.0   \n",
       "\n",
       "   dst_host_srv_rerror_rate  \n",
       "0                       0.0  \n",
       "1                       0.0  \n",
       "2                       0.0  \n",
       "3                       0.0  \n",
       "4                       0.0  \n",
       "\n",
       "[5 rows x 41 columns]"
      ]
     },
     "execution_count": 5,
     "metadata": {},
     "output_type": "execute_result"
    }
   ],
   "source": [
    "X_test.head()"
   ]
  },
  {
   "cell_type": "code",
   "execution_count": 6,
   "id": "c5abfb3c",
   "metadata": {},
   "outputs": [
    {
     "data": {
      "text/html": [
       "<div>\n",
       "<style scoped>\n",
       "    .dataframe tbody tr th:only-of-type {\n",
       "        vertical-align: middle;\n",
       "    }\n",
       "\n",
       "    .dataframe tbody tr th {\n",
       "        vertical-align: top;\n",
       "    }\n",
       "\n",
       "    .dataframe thead th {\n",
       "        text-align: right;\n",
       "    }\n",
       "</style>\n",
       "<table border=\"1\" class=\"dataframe\">\n",
       "  <thead>\n",
       "    <tr style=\"text-align: right;\">\n",
       "      <th></th>\n",
       "      <th>xAttack</th>\n",
       "    </tr>\n",
       "  </thead>\n",
       "  <tbody>\n",
       "    <tr>\n",
       "      <th>0</th>\n",
       "      <td>3</td>\n",
       "    </tr>\n",
       "    <tr>\n",
       "      <th>1</th>\n",
       "      <td>0</td>\n",
       "    </tr>\n",
       "    <tr>\n",
       "      <th>2</th>\n",
       "      <td>1</td>\n",
       "    </tr>\n",
       "    <tr>\n",
       "      <th>3</th>\n",
       "      <td>3</td>\n",
       "    </tr>\n",
       "    <tr>\n",
       "      <th>4</th>\n",
       "      <td>2</td>\n",
       "    </tr>\n",
       "  </tbody>\n",
       "</table>\n",
       "</div>"
      ],
      "text/plain": [
       "   xAttack\n",
       "0        3\n",
       "1        0\n",
       "2        1\n",
       "3        3\n",
       "4        2"
      ]
     },
     "execution_count": 6,
     "metadata": {},
     "output_type": "execute_result"
    }
   ],
   "source": [
    "y_train.head()"
   ]
  },
  {
   "cell_type": "code",
   "execution_count": 7,
   "id": "dbac2a00",
   "metadata": {},
   "outputs": [
    {
     "data": {
      "text/html": [
       "<div>\n",
       "<style scoped>\n",
       "    .dataframe tbody tr th:only-of-type {\n",
       "        vertical-align: middle;\n",
       "    }\n",
       "\n",
       "    .dataframe tbody tr th {\n",
       "        vertical-align: top;\n",
       "    }\n",
       "\n",
       "    .dataframe thead th {\n",
       "        text-align: right;\n",
       "    }\n",
       "</style>\n",
       "<table border=\"1\" class=\"dataframe\">\n",
       "  <thead>\n",
       "    <tr style=\"text-align: right;\">\n",
       "      <th></th>\n",
       "      <th>xAttack</th>\n",
       "    </tr>\n",
       "  </thead>\n",
       "  <tbody>\n",
       "    <tr>\n",
       "      <th>0</th>\n",
       "      <td>2</td>\n",
       "    </tr>\n",
       "    <tr>\n",
       "      <th>1</th>\n",
       "      <td>4</td>\n",
       "    </tr>\n",
       "    <tr>\n",
       "      <th>2</th>\n",
       "      <td>4</td>\n",
       "    </tr>\n",
       "    <tr>\n",
       "      <th>3</th>\n",
       "      <td>2</td>\n",
       "    </tr>\n",
       "    <tr>\n",
       "      <th>4</th>\n",
       "      <td>2</td>\n",
       "    </tr>\n",
       "  </tbody>\n",
       "</table>\n",
       "</div>"
      ],
      "text/plain": [
       "   xAttack\n",
       "0        2\n",
       "1        4\n",
       "2        4\n",
       "3        2\n",
       "4        2"
      ]
     },
     "execution_count": 7,
     "metadata": {},
     "output_type": "execute_result"
    }
   ],
   "source": [
    "y_test.head()"
   ]
  },
  {
   "cell_type": "code",
   "execution_count": 8,
   "id": "f1e7168a",
   "metadata": {},
   "outputs": [],
   "source": [
    "from tensorflow.keras.utils import to_categorical\n",
    "Y_train=to_categorical(y_train)\n",
    "Y_test=to_categorical(y_test)"
   ]
  },
  {
   "cell_type": "code",
   "execution_count": 9,
   "id": "392d8f7a",
   "metadata": {},
   "outputs": [
    {
     "data": {
      "text/plain": [
       "array([[0., 0., 0., 1., 0.],\n",
       "       [1., 0., 0., 0., 0.],\n",
       "       [0., 1., 0., 0., 0.],\n",
       "       [0., 0., 0., 1., 0.],\n",
       "       [0., 0., 1., 0., 0.]], dtype=float32)"
      ]
     },
     "execution_count": 9,
     "metadata": {},
     "output_type": "execute_result"
    }
   ],
   "source": [
    "Y_train[:5]"
   ]
  },
  {
   "cell_type": "code",
   "execution_count": 10,
   "id": "6cc03761",
   "metadata": {},
   "outputs": [
    {
     "data": {
      "text/plain": [
       "array([[0., 0., 1., 0., 0.],\n",
       "       [0., 0., 0., 0., 1.],\n",
       "       [0., 0., 0., 0., 1.],\n",
       "       [0., 0., 1., 0., 0.],\n",
       "       [0., 0., 1., 0., 0.]], dtype=float32)"
      ]
     },
     "execution_count": 10,
     "metadata": {},
     "output_type": "execute_result"
    }
   ],
   "source": [
    "Y_test[:5]"
   ]
  },
  {
   "cell_type": "markdown",
   "id": "2bc65fd7",
   "metadata": {},
   "source": [
    "### Algorithm:1 ArtificialNeuralNetwork"
   ]
  },
  {
   "cell_type": "code",
   "execution_count": 11,
   "id": "47430a53",
   "metadata": {},
   "outputs": [],
   "source": [
    "from tensorflow.keras import Sequential\n",
    "from tensorflow.keras.layers import Dense,Dropout,BatchNormalization\n",
    "from tensorflow.keras.optimizers import Adam"
   ]
  },
  {
   "cell_type": "code",
   "execution_count": 12,
   "id": "d61b7064",
   "metadata": {},
   "outputs": [],
   "source": [
    "model=Sequential()\n",
    "model.add(Dense(units=64,activation='relu',input_dim=X_train.shape[1]))\n",
    "model.add(BatchNormalization())\n",
    "model.add(Dropout(rate=0.3))\n",
    "model.add(Dense(units=128,activation='relu'))\n",
    "model.add(BatchNormalization())\n",
    "model.add(Dropout(rate=0.3))\n",
    "model.add(Dense(units=256,activation='relu'))\n",
    "model.add(BatchNormalization())\n",
    "model.add(Dropout(rate=0.3))\n",
    "model.add(Dense(units=5,activation='softmax'))"
   ]
  },
  {
   "cell_type": "code",
   "execution_count": 13,
   "id": "941dc911",
   "metadata": {},
   "outputs": [],
   "source": [
    "model.compile(optimizer=\"adam\",loss=\"categorical_crossentropy\",metrics=[\"accuracy\"])"
   ]
  },
  {
   "cell_type": "code",
   "execution_count": 14,
   "id": "4edd06ac",
   "metadata": {},
   "outputs": [
    {
     "name": "stdout",
     "output_type": "stream",
     "text": [
      "Epoch 1/20\n",
      "625/625 [==============================] - 4s 3ms/step - loss: 0.3916 - accuracy: 0.8664 - val_loss: 0.1430 - val_accuracy: 0.9382\n",
      "Epoch 2/20\n",
      "625/625 [==============================] - 2s 3ms/step - loss: 0.2231 - accuracy: 0.9255 - val_loss: 0.1098 - val_accuracy: 0.9606\n",
      "Epoch 3/20\n",
      "625/625 [==============================] - 2s 3ms/step - loss: 0.1868 - accuracy: 0.9384 - val_loss: 0.1003 - val_accuracy: 0.9664\n",
      "Epoch 4/20\n",
      "625/625 [==============================] - 2s 3ms/step - loss: 0.1609 - accuracy: 0.9470 - val_loss: 0.0845 - val_accuracy: 0.9686\n",
      "Epoch 5/20\n",
      "625/625 [==============================] - 2s 3ms/step - loss: 0.1504 - accuracy: 0.9506 - val_loss: 0.0811 - val_accuracy: 0.9718\n",
      "Epoch 6/20\n",
      "625/625 [==============================] - 2s 3ms/step - loss: 0.1394 - accuracy: 0.9535 - val_loss: 0.0855 - val_accuracy: 0.9682\n",
      "Epoch 7/20\n",
      "625/625 [==============================] - 2s 3ms/step - loss: 0.1347 - accuracy: 0.9553 - val_loss: 0.0730 - val_accuracy: 0.9750\n",
      "Epoch 8/20\n",
      "625/625 [==============================] - 2s 3ms/step - loss: 0.1270 - accuracy: 0.9574 - val_loss: 0.0743 - val_accuracy: 0.9782\n",
      "Epoch 9/20\n",
      "625/625 [==============================] - 2s 3ms/step - loss: 0.1223 - accuracy: 0.9574 - val_loss: 0.0651 - val_accuracy: 0.9752\n",
      "Epoch 10/20\n",
      "625/625 [==============================] - 2s 3ms/step - loss: 0.1131 - accuracy: 0.9613 - val_loss: 0.0729 - val_accuracy: 0.9762\n",
      "Epoch 11/20\n",
      "625/625 [==============================] - 2s 3ms/step - loss: 0.1150 - accuracy: 0.9608 - val_loss: 0.0604 - val_accuracy: 0.9740\n",
      "Epoch 12/20\n",
      "625/625 [==============================] - 2s 3ms/step - loss: 0.1055 - accuracy: 0.9651 - val_loss: 0.0644 - val_accuracy: 0.9788\n",
      "Epoch 13/20\n",
      "625/625 [==============================] - 2s 3ms/step - loss: 0.1018 - accuracy: 0.9661 - val_loss: 0.0527 - val_accuracy: 0.9822\n",
      "Epoch 14/20\n",
      "625/625 [==============================] - 2s 3ms/step - loss: 0.1051 - accuracy: 0.9653 - val_loss: 0.0558 - val_accuracy: 0.9812\n",
      "Epoch 15/20\n",
      "625/625 [==============================] - 2s 3ms/step - loss: 0.0988 - accuracy: 0.9668 - val_loss: 0.0512 - val_accuracy: 0.9828\n",
      "Epoch 16/20\n",
      "625/625 [==============================] - 2s 3ms/step - loss: 0.0907 - accuracy: 0.9682 - val_loss: 0.0591 - val_accuracy: 0.9798\n",
      "Epoch 17/20\n",
      "625/625 [==============================] - 2s 3ms/step - loss: 0.0914 - accuracy: 0.9693 - val_loss: 0.0554 - val_accuracy: 0.9820\n",
      "Epoch 18/20\n",
      "625/625 [==============================] - 2s 3ms/step - loss: 0.0886 - accuracy: 0.9697 - val_loss: 0.0484 - val_accuracy: 0.9848\n",
      "Epoch 19/20\n",
      "625/625 [==============================] - 2s 3ms/step - loss: 0.0856 - accuracy: 0.9717 - val_loss: 0.0535 - val_accuracy: 0.9828\n",
      "Epoch 20/20\n",
      "625/625 [==============================] - 2s 3ms/step - loss: 0.0864 - accuracy: 0.9714 - val_loss: 0.0649 - val_accuracy: 0.9776\n"
     ]
    }
   ],
   "source": [
    "history=model.fit(x=X_train,\n",
    "                 y=Y_train,\n",
    "                 batch_size=32,\n",
    "                 epochs=20,\n",
    "                 validation_data=(X_test,Y_test))"
   ]
  },
  {
   "cell_type": "code",
   "execution_count": 15,
   "id": "73510269",
   "metadata": {},
   "outputs": [
    {
     "data": {
      "image/png": "[encoded data removed]",
      "text/plain": [
       "<Figure size 1296x576 with 1 Axes>"
      ]
     },
     "metadata": {},
     "output_type": "display_data"
    },
    {
     "data": {
      "image/png": "[encoded data removed]",
      "text/plain": [
       "<Figure size 1296x576 with 1 Axes>"
      ]
     },
     "metadata": {},
     "output_type": "display_data"
    }
   ],
   "source": [
    "with plt.style.context(style=\"fivethirtyeight\"):\n",
    "    plt.figure(figsize=(18,8))\n",
    "    plt.rcParams[\"font.size\"]=18\n",
    "    plt.plot(history.history['accuracy'],label='accuracy')\n",
    "    plt.plot(history.history['val_accuracy'],label='val_accuracy')\n",
    "    plt.title(label='Accuracy Plots')\n",
    "    plt.xlabel(xlabel=\"Epochs\")\n",
    "    plt.ylabel(ylabel=\"Accuracy\")\n",
    "    plt.legend()\n",
    "    plt.show()\n",
    "    \n",
    "    plt.figure(figsize=(18,8))\n",
    "    plt.rcParams['font.size']=18\n",
    "    plt.plot(history.history['loss'],label='loss')\n",
    "    plt.plot(history.history['val_loss'],label='val_loss')\n",
    "    plt.title(label='Loss Plots')\n",
    "    plt.xlabel(xlabel=\"Epochs\")\n",
    "    plt.ylabel(ylabel=\"Loss\")\n",
    "    plt.show()"
   ]
  },
  {
   "cell_type": "code",
   "execution_count": 16,
   "id": "d0b98a5b",
   "metadata": {},
   "outputs": [
    {
     "name": "stdout",
     "output_type": "stream",
     "text": [
      "157/157 [==============================] - 0s 1ms/step\n",
      "[[2.34189047e-05 9.99921083e-01 5.30815014e-05 2.72363887e-09\n",
      "  2.36835376e-06]\n",
      " [9.98478472e-01 5.60091867e-04 6.70501089e-04 1.87155427e-04\n",
      "  1.03763756e-04]\n",
      " [1.08746875e-07 9.99999762e-01 2.22059402e-08 6.02474444e-08\n",
      "  5.20773735e-09]\n",
      " ...\n",
      " [6.47197812e-05 5.88876037e-06 1.02208724e-04 1.20790464e-05\n",
      "  9.99815166e-01]\n",
      " [8.68574134e-04 6.51945156e-05 5.44426393e-06 9.99025583e-01\n",
      "  3.52378229e-05]\n",
      " [9.95992482e-01 3.92168015e-03 1.45229887e-05 1.70552212e-05\n",
      "  5.43691203e-05]]\n"
     ]
    }
   ],
   "source": [
    "Ann_pred=model.predict(X_test,batch_size=32,verbose=1)\n",
    "print(Ann_pred)"
   ]
  },
  {
   "cell_type": "code",
   "execution_count": 17,
   "id": "fb356e25",
   "metadata": {},
   "outputs": [
    {
     "name": "stdout",
     "output_type": "stream",
     "text": [
      "[1, 0, 1, 0, 2, 4, 4, 2, 1, 3, 1, 4, 0, 4, 0, 4, 1, 2, 1, 2, 3, 2, 1, 3, 4, 1, 1, 4, 2, 0, 2, 4, 0, 2, 0, 0, 1, 1, 3, 0, 0, 2, 1, 1, 0, 2, 2, 0, 3, 0, 2, 1, 2, 2, 0, 2, 0, 2, 3, 0, 2, 0, 0, 4, 2, 3, 1, 0, 0, 4, 2, 1, 4, 1, 4, 4, 3, 3, 3, 3, 1, 3, 4, 4, 4, 0, 0, 2, 2, 0, 2, 4, 0, 3, 4, 3, 4, 0, 1, 4, 4, 4, 1, 1, 3, 3, 3, 1, 1, 0, 4, 3, 2, 2, 1, 1, 4, 2, 4, 0, 4, 1, 1, 1, 2, 3, 2, 4, 3, 1, 0, 2, 4, 0, 1, 0, 2, 2, 1, 0, 3, 1, 2, 3, 4, 1, 3, 1, 2, 1, 3, 4, 0, 2, 4, 4, 3, 3, 1, 2, 4, 2, 2, 3, 0, 1, 3, 2, 2, 3, 3, 0, 0, 2, 3, 0, 2, 1, 3, 4, 3, 2, 2, 3, 1, 4, 1, 0, 2, 2, 3, 0, 3, 4, 2, 1, 3, 2, 2, 3, 4, 2, 2, 2, 4, 1, 1, 0, 4, 2, 2, 1, 2, 2, 2, 0, 0, 4, 4, 2, 2, 4, 4, 4, 1, 3, 1, 4, 1, 3, 2, 2, 1, 4, 0, 2, 3, 2, 3, 0, 1, 1, 2, 2, 1, 4, 3, 0, 4, 3, 2, 2, 1, 2, 3, 3, 2, 2, 0, 0, 3, 2, 2, 4, 0, 0, 4, 3, 2, 4, 0, 4, 2, 3, 4, 3, 2, 2, 0, 3, 2, 1, 1, 3, 1, 4, 1, 4, 4, 1, 4, 4, 3, 4, 3, 4, 2, 1, 2, 4, 3, 4, 3, 0, 1, 2, 2, 3, 2, 3, 4, 0, 2, 3, 1, 3, 1, 2, 2, 4, 2, 4, 1, 4, 0, 3, 1, 4, 0, 3, 3, 0, 2, 0, 2, 3, 1, 2, 0, 2, 1, 2, 1, 0, 1, 3, 2, 1, 3, 2, 0, 3, 3, 2, 3, 1, 2, 1, 0, 1, 2, 4, 1, 0, 3, 3, 3, 1, 3, 0, 3, 0, 1, 4, 3, 2, 2, 4, 1, 3, 0, 3, 2, 0, 4, 1, 1, 2, 2, 3, 2, 1, 0, 3, 1, 0, 4, 1, 0, 0, 4, 2, 2, 3, 3, 3, 2, 0, 2, 3, 0, 3, 4, 1, 2, 4, 2, 2, 1, 4, 3, 4, 2, 0, 2, 3, 4, 3, 3, 1, 3, 3, 0, 4, 2, 2, 3, 4, 1, 3, 4, 4, 2, 2, 0, 0, 2, 2, 1, 2, 4, 2, 3, 2, 0, 2, 1, 4, 2, 2, 4, 0, 2, 0, 4, 3, 0, 1, 1, 1, 0, 2, 0, 3, 0, 4, 1, 3, 3, 1, 4, 4, 1, 1, 1, 2, 1, 1, 0, 2, 3, 0, 1, 3, 1, 0, 4, 2, 4, 2, 1, 2, 3, 1, 1, 2, 3, 3, 1, 1, 3, 1, 0, 2, 2, 4, 2, 0, 0, 1, 4, 4, 3, 3, 3, 4, 1, 4, 1, 0, 3, 0, 2, 2, 3, 1, 4, 4, 4, 1, 3, 0, 4, 0, 0, 0, 4, 3, 3, 4, 0, 1, 1, 0, 3, 2, 3, 2, 0, 4, 3, 4, 4, 4, 0, 1, 4, 2, 0, 4, 1, 1, 4, 1, 4, 1, 4, 0, 0, 3, 2, 3, 1, 3, 3, 0, 2, 4, 4, 3, 4, 2, 2, 0, 4, 0, 0, 4, 4, 4, 0, 0, 0, 0, 2, 1, 3, 4, 0, 3, 2, 2, 0, 2, 3, 3, 2, 3, 0, 1, 3, 0, 4, 3, 0, 2, 4, 3, 2, 1, 1, 2, 1, 1, 4, 0, 1, 2, 2, 0, 1, 3, 4, 4, 4, 4, 2, 3, 2, 1, 3, 3, 0, 1, 0, 0, 3, 1, 2, 2, 3, 3, 3, 4, 4, 4, 2, 0, 2, 2, 2, 4, 2, 4, 3, 2, 4, 2, 1, 1, 4, 4, 0, 3, 4, 3, 4, 2, 2, 1, 4, 4, 1, 0, 1, 1, 2, 1, 0, 1, 2, 0, 4, 3, 3, 2, 1, 1, 2, 0, 2, 4, 1, 0, 0, 4, 3, 4, 1, 3, 1, 1, 2, 1, 0, 3, 3, 4, 3, 3, 3, 3, 0, 4, 3, 3, 3, 0, 3, 1, 3, 1, 1, 3, 0, 0, 1, 3, 3, 3, 1, 0, 2, 4, 4, 4, 1, 0, 0, 1, 1, 3, 3, 0, 1, 0, 2, 3, 4, 1, 0, 1, 4, 0, 2, 0, 0, 1, 0, 1, 2, 2, 1, 1, 4, 1, 3, 1, 2, 0, 1, 3, 0, 4, 3, 3, 1, 3, 1, 4, 1, 3, 4, 4, 1, 0, 3, 4, 2, 3, 2, 4, 4, 0, 3, 2, 1, 1, 2, 1, 3, 3, 4, 2, 2, 3, 1, 0, 4, 3, 3, 3, 0, 4, 4, 2, 3, 2, 2, 4, 1, 1, 3, 4, 4, 3, 4, 4, 4, 2, 1, 2, 3, 1, 1, 2, 0, 2, 0, 4, 3, 2, 0, 4, 3, 1, 2, 2, 3, 3, 0, 0, 0, 1, 4, 0, 4, 2, 2, 4, 2, 4, 2, 1, 2, 1, 3, 3, 4, 0, 4, 1, 0, 4, 4, 3, 4, 4, 4, 0, 0, 2, 3, 4, 3, 2, 4, 1, 2, 1, 4, 3, 1, 2, 2, 4, 4, 2, 3, 2, 3, 4, 4, 2, 1, 4, 4, 4, 3, 4, 1, 2, 4, 1, 0, 0, 4, 2, 2, 3, 2, 3, 4, 2, 1, 4, 2, 3, 1, 3, 4, 3, 3, 2, 2, 3, 0, 1, 1, 3, 1, 2, 2, 3, 0, 4, 4, 0, 2, 2, 2, 4, 3, 4, 2, 4, 1, 1, 0, 4, 4, 3, 4, 1, 2, 0, 0, 4, 4, 3, 4, 4, 0, 0, 4, 2, 4, 4, 3, 3, 0, 1, 0, 4, 0, 1, 3, 3, 1, 2, 0, 2, 2, 0, 1, 2, 0, 2, 0, 4, 4, 1, 2, 0, 4, 0, 2, 1, 4, 2, 2, 4, 4, 3, 0, 3, 1, 3, 4, 0, 3, 4, 4, 3, 2, 4, 2, 1, 2, 4, 2, 3, 2, 0, 3, 3, 4, 1, 4, 1, 2, 1, 4, 3, 3, 1, 4, 2, 0, 4, 1, 4, 1, 3, 3, 1, 4, 2, 2, 0, 2, 1, 1, 2, 4, 3, 4, 3, 4, 1, 2, 1, 2, 3, 1, 1, 4, 4, 1, 1, 4, 4, 3, 2, 4, 0, 4, 3, 3, 2, 3, 0, 2, 2, 1, 3, 1, 4, 4, 0, 0, 1, 3, 1, 3, 0, 2, 1, 2, 1, 1, 3, 4, 0, 1, 1, 0, 3, 4, 3, 0, 0, 2, 3, 3, 2, 1, 1, 4, 4, 0, 2, 1, 1, 4, 2, 2, 1, 2, 0, 4, 1, 1, 2, 0, 4, 3, 4, 2, 1, 4, 0, 3, 3, 2, 1, 2, 2, 4, 4, 1, 1, 2, 2, 4, 0, 0, 4, 4, 2, 4, 4, 4, 3, 2, 1, 0, 3, 3, 1, 1, 3, 0, 0, 2, 4, 1, 0, 1, 0, 2, 3, 2, 3, 0, 1, 3, 2, 0, 1, 0, 3, 2, 4, 0, 4, 4, 0, 3, 0, 4, 4, 0, 3, 0, 3, 2, 0, 2, 4, 4, 4, 2, 3, 0, 2, 0, 1, 0, 4, 3, 3, 4, 2, 2, 3, 3, 3, 0, 4, 4, 0, 1, 0, 4, 3, 4, 2, 1, 2, 1, 2, 2, 0, 0, 4, 2, 1, 1, 0, 0, 3, 0, 1, 4, 2, 0, 4, 4, 4, 2, 4, 3, 1, 3, 2, 1, 0, 0, 0, 1, 4, 3, 1, 0, 4, 0, 3, 4, 0, 0, 0, 3, 3, 2, 2, 2, 4, 2, 1, 4, 1, 4, 1, 2, 4, 0, 4, 2, 0, 4, 2, 3, 4, 0, 3, 3, 4, 0, 1, 3, 2, 0, 4, 1, 3, 3, 0, 2, 2, 4, 3, 3, 0, 3, 3, 3, 2, 3, 1, 3, 1, 1, 1, 2, 0, 4, 2, 2, 2, 0, 2, 0, 4, 3, 0, 2, 3, 0, 4, 1, 0, 2, 0, 1, 4, 4, 1, 0, 1, 2, 1, 2, 2, 0, 3, 1, 4, 3, 4, 3, 3, 3, 4, 2, 1, 2, 0, 4, 0, 1, 2, 0, 4, 1, 4, 4, 3, 4, 3, 1, 0, 0, 3, 2, 3, 4, 3, 3, 0, 2, 4, 4, 3, 3, 0, 4, 2, 0, 4, 0, 3, 4, 1, 1, 2, 0, 0, 1, 0, 2, 3, 2, 2, 0, 0, 2, 3, 3, 3, 3, 4, 3, 3, 1, 1, 4, 4, 2, 4, 2, 1, 4, 4, 4, 4, 2, 4, 1, 1, 3, 1, 3, 3, 1, 1, 1, 0, 4, 1, 0, 3, 4, 1, 2, 3, 2, 3, 3, 3, 4, 1, 1, 0, 3, 1, 1, 0, 3, 3, 2, 1, 3, 2, 0, 1, 0, 3, 2, 0, 1, 2, 2, 3, 0, 2, 4, 2, 3, 4, 3, 0, 4, 0, 2, 1, 0, 4, 3, 4, 1, 4, 3, 4, 4, 4, 3, 0, 4, 1, 1, 4, 4, 2, 1, 4, 4, 4, 4, 0, 1, 4, 2, 4, 1, 0, 1, 1, 3, 0, 1, 1, 0, 0, 0, 1, 1, 1, 1, 2, 4, 1, 1, 4, 0, 0, 2, 2, 3, 4, 4, 1, 4, 0, 1, 1, 4, 2, 3, 0, 1, 0, 0, 3, 0, 2, 0, 4, 3, 2, 3, 4, 2, 2, 4, 3, 4, 4, 2, 0, 2, 2, 3, 4, 3, 1, 3, 2, 1, 0, 2, 3, 3, 2, 4, 3, 4, 0, 4, 4, 4, 1, 2, 4, 0, 0, 4, 3, 2, 4, 2, 4, 2, 3, 2, 2, 4, 2, 3, 2, 3, 1, 2, 1, 0, 4, 4, 4, 3, 1, 4, 3, 4, 3, 2, 3, 1, 0, 0, 0, 2, 3, 3, 0, 4, 4, 4, 3, 3, 2, 4, 1, 1, 4, 2, 0, 3, 1, 2, 3, 4, 4, 4, 1, 3, 3, 0, 0, 0, 3, 2, 3, 3, 1, 0, 1, 1, 3, 0, 2, 2, 3, 2, 4, 4, 3, 1, 1, 0, 4, 2, 0, 3, 3, 4, 0, 2, 1, 1, 0, 3, 4, 4, 2, 0, 1, 4, 2, 0, 1, 2, 2, 3, 1, 0, 0, 2, 0, 1, 0, 2, 3, 4, 1, 2, 1, 3, 3, 4, 4, 0, 0, 2, 2, 2, 3, 1, 1, 2, 4, 0, 3, 2, 4, 3, 1, 4, 2, 3, 4, 2, 3, 3, 1, 2, 2, 3, 0, 4, 1, 4, 4, 4, 3, 4, 4, 1, 3, 3, 3, 1, 4, 4, 4, 0, 3, 3, 0, 1, 0, 3, 4, 2, 3, 2, 2, 4, 4, 0, 3, 2, 4, 1, 3, 1, 2, 3, 1, 2, 2, 3, 2, 1, 3, 1, 3, 4, 2, 1, 4, 3, 0, 1, 1, 3, 4, 3, 3, 0, 0, 0, 0, 1, 4, 1, 2, 4, 2, 0, 0, 1, 2, 1, 3, 0, 1, 3, 4, 3, 0, 0, 0, 1, 0, 4, 1, 2, 1, 3, 3, 0, 0, 0, 1, 2, 1, 1, 1, 2, 0, 4, 0, 1, 0, 0, 2, 4, 3, 3, 0, 0, 3, 1, 1, 3, 3, 2, 1, 4, 3, 3, 3, 2, 1, 4, 4, 2, 4, 1, 0, 3, 4, 2, 2, 2, 1, 4, 0, 0, 4, 1, 0, 4, 4, 1, 3, 0, 2, 3, 4, 2, 3, 4, 2, 4, 2, 4, 4, 4, 1, 3, 3, 2, 4, 2, 4, 1, 3, 1, 0, 1, 1, 4, 0, 2, 3, 1, 4, 1, 1, 1, 0, 1, 2, 4, 0, 2, 2, 1, 2, 2, 1, 1, 2, 1, 2, 0, 3, 2, 4, 1, 2, 4, 3, 2, 2, 0, 3, 0, 1, 4, 3, 2, 1, 2, 1, 4, 4, 0, 2, 4, 3, 2, 4, 0, 4, 1, 1, 3, 4, 4, 0, 0, 4, 1, 3, 1, 1, 0, 4, 4, 4, 1, 4, 1, 3, 2, 3, 4, 2, 0, 0, 0, 3, 2, 1, 2, 0, 0, 1, 3, 4, 4, 2, 2, 3, 3, 2, 0, 0, 4, 1, 2, 0, 4, 0, 4, 0, 0, 4, 2, 0, 3, 2, 1, 0, 4, 4, 3, 4, 1, 2, 2, 4, 2, 3, 2, 4, 4, 4, 3, 3, 4, 3, 4, 0, 3, 3, 2, 0, 1, 1, 3, 3, 0, 0, 1, 2, 3, 3, 1, 0, 1, 0, 4, 0, 3, 3, 3, 1, 2, 4, 4, 4, 3, 3, 3, 1, 1, 1, 4, 4, 4, 3, 0, 3, 2, 4, 1, 3, 4, 2, 4, 4, 1, 4, 1, 0, 2, 4, 1, 3, 0, 3, 2, 4, 4, 4, 3, 2, 2, 1, 3, 0, 3, 0, 1, 1, 4, 1, 2, 3, 0, 3, 1, 2, 3, 4, 3, 4, 0, 4, 3, 1, 3, 2, 4, 3, 0, 0, 3, 0, 3, 2, 4, 0, 4, 4, 0, 4, 2, 0, 0, 0, 0, 3, 0, 0, 2, 2, 0, 0, 0, 1, 0, 0, 2, 3, 0, 0, 0, 1, 1, 2, 4, 4, 4, 0, 3, 4, 1, 3, 1, 2, 3, 2, 1, 0, 3, 3, 0, 3, 2, 0, 3, 4, 1, 2, 2, 1, 0, 4, 0, 3, 3, 2, 4, 3, 3, 0, 2, 4, 1, 0, 1, 0, 4, 4, 3, 1, 2, 3, 3, 1, 2, 3, 4, 0, 0, 1, 4, 2, 4, 1, 1, 2, 2, 0, 2, 0, 2, 1, 4, 4, 2, 3, 4, 4, 3, 2, 1, 0, 4, 1, 3, 3, 3, 0, 4, 4, 4, 1, 3, 4, 4, 1, 2, 3, 2, 3, 4, 3, 3, 1, 0, 4, 0, 2, 2, 4, 2, 0, 1, 0, 3, 1, 2, 0, 2, 4, 0, 3, 3, 3, 3, 3, 1, 0, 2, 3, 0, 4, 2, 4, 2, 0, 4, 4, 3, 0, 2, 2, 2, 1, 2, 0, 3, 4, 1, 4, 0, 0, 0, 2, 4, 3, 4, 3, 3, 1, 0, 0, 1, 3, 3, 3, 4, 3, 3, 1, 1, 4, 2, 2, 4, 0, 1, 0, 3, 3, 0, 0, 4, 2, 1, 1, 4, 1, 3, 1, 0, 2, 0, 1, 3, 0, 3, 0, 0, 0, 2, 0, 2, 1, 1, 0, 1, 4, 4, 3, 0, 1, 1, 1, 2, 2, 2, 4, 2, 1, 0, 2, 2, 2, 4, 0, 3, 3, 0, 3, 1, 4, 4, 4, 2, 0, 3, 2, 1, 2, 0, 3, 2, 2, 1, 4, 3, 0, 4, 2, 1, 2, 1, 2, 1, 3, 2, 2, 2, 2, 1, 0, 3, 4, 0, 4, 3, 2, 0, 0, 4, 4, 4, 0, 3, 0, 4, 1, 0, 2, 2, 4, 2, 1, 4, 2, 4, 0, 0, 2, 2, 0, 3, 1, 1, 1, 1, 0, 2, 3, 2, 0, 2, 1, 2, 3, 2, 0, 4, 4, 3, 3, 0, 0, 1, 0, 3, 0, 3, 4, 3, 2, 2, 2, 2, 2, 4, 4, 3, 1, 0, 2, 2, 0, 3, 3, 1, 3, 3, 0, 4, 3, 4, 1, 2, 2, 4, 4, 0, 4, 1, 3, 1, 2, 1, 0, 2, 4, 4, 0, 3, 0, 2, 3, 4, 1, 2, 3, 2, 3, 4, 1, 1, 2, 4, 0, 3, 2, 4, 2, 0, 2, 1, 2, 4, 4, 1, 3, 3, 3, 2, 0, 3, 1, 1, 3, 2, 4, 3, 3, 2, 4, 4, 2, 2, 1, 3, 0, 0, 0, 4, 0, 4, 3, 0, 2, 2, 4, 4, 0, 1, 2, 1, 1, 1, 4, 2, 4, 4, 1, 3, 4, 2, 2, 2, 0, 1, 3, 2, 0, 4, 0, 0, 4, 4, 3, 4, 0, 3, 4, 3, 3, 0, 3, 2, 3, 3, 4, 3, 2, 4, 2, 0, 2, 1, 3, 4, 1, 3, 0, 2, 4, 2, 0, 3, 0, 2, 3, 1, 0, 4, 3, 0, 1, 2, 4, 1, 4, 4, 1, 0, 4, 4, 0, 4, 1, 4, 0, 1, 4, 2, 1, 2, 1, 3, 2, 3, 0, 3, 2, 0, 3, 1, 2, 0, 4, 0, 2, 4, 1, 2, 3, 0, 4, 0, 1, 2, 0, 3, 1, 2, 0, 4, 3, 4, 3, 3, 0, 3, 4, 2, 1, 1, 1, 0, 2, 4, 4, 4, 2, 4, 1, 2, 1, 4, 3, 4, 4, 3, 4, 4, 2, 1, 3, 0, 0, 2, 2, 4, 0, 0, 2, 2, 4, 4, 2, 4, 4, 4, 3, 0, 2, 4, 0, 1, 0, 4, 4, 3, 1, 3, 2, 4, 1, 1, 3, 0, 4, 1, 2, 0, 3, 0, 3, 1, 0, 4, 4, 1, 0, 1, 0, 3, 4, 0, 1, 3, 3, 2, 4, 3, 2, 4, 0, 1, 4, 2, 3, 4, 4, 1, 4, 4, 4, 0, 2, 0, 1, 4, 2, 4, 1, 0, 2, 0, 3, 0, 0, 0, 4, 1, 2, 0, 0, 0, 2, 0, 3, 1, 2, 2, 0, 1, 0, 3, 0, 4, 3, 2, 0, 4, 1, 4, 1, 3, 2, 4, 2, 4, 4, 4, 3, 1, 0, 4, 0, 4, 1, 3, 1, 0, 1, 3, 4, 1, 1, 0, 2, 0, 3, 0, 4, 4, 4, 4, 4, 2, 2, 1, 3, 3, 2, 3, 3, 3, 4, 0, 3, 4, 0, 3, 1, 0, 1, 4, 0, 0, 3, 1, 2, 4, 4, 3, 0, 2, 3, 3, 0, 4, 0, 1, 0, 2, 3, 4, 1, 4, 3, 3, 0, 1, 2, 2, 3, 1, 0, 1, 0, 2, 1, 3, 4, 3, 3, 3, 2, 4, 0, 2, 4, 1, 4, 4, 2, 1, 3, 3, 3, 2, 4, 1, 0, 0, 0, 4, 0, 1, 4, 4, 0, 2, 4, 2, 2, 4, 4, 3, 4, 0, 4, 3, 4, 1, 0, 2, 0, 4, 2, 4, 1, 2, 2, 4, 4, 3, 4, 2, 2, 3, 4, 4, 2, 2, 3, 1, 1, 2, 0, 3, 4, 1, 2, 0, 0, 4, 4, 3, 1, 1, 3, 2, 2, 2, 2, 0, 0, 4, 2, 0, 1, 3, 4, 2, 1, 0, 3, 0, 3, 2, 1, 4, 2, 1, 1, 1, 3, 4, 2, 2, 1, 3, 0, 3, 4, 1, 4, 2, 1, 1, 1, 2, 3, 4, 2, 1, 2, 4, 1, 1, 2, 2, 1, 3, 1, 0, 1, 2, 2, 2, 4, 3, 0, 3, 2, 2, 3, 1, 4, 4, 4, 4, 1, 4, 4, 2, 2, 1, 1, 1, 2, 2, 0, 2, 2, 0, 4, 0, 1, 1, 1, 3, 0, 0, 3, 1, 1, 4, 2, 0, 0, 4, 4, 0, 1, 4, 3, 2, 0, 0, 2, 1, 1, 0, 4, 1, 2, 3, 4, 3, 0, 4, 1, 1, 0, 2, 1, 0, 1, 3, 0, 3, 3, 0, 0, 2, 4, 4, 0, 1, 1, 1, 1, 0, 1, 3, 2, 2, 1, 4, 1, 3, 1, 4, 2, 3, 2, 4, 4, 2, 3, 0, 2, 0, 3, 3, 1, 4, 3, 3, 1, 3, 4, 2, 4, 3, 1, 0, 4, 0, 1, 4, 3, 2, 0, 0, 1, 4, 3, 2, 4, 4, 3, 2, 4, 3, 2, 2, 1, 1, 4, 1, 3, 0, 2, 1, 0, 2, 4, 1, 2, 0, 1, 1, 3, 4, 2, 4, 3, 2, 0, 4, 2, 0, 2, 3, 3, 2, 0, 2, 3, 3, 0, 2, 0, 2, 0, 2, 4, 4, 2, 2, 0, 4, 3, 0, 1, 0, 2, 1, 2, 3, 0, 1, 1, 2, 4, 2, 1, 0, 0, 1, 4, 3, 2, 4, 3, 4, 0, 1, 1, 1, 3, 2, 1, 0, 2, 4, 2, 4, 2, 0, 0, 4, 1, 3, 1, 0, 0, 2, 0, 2, 2, 0, 3, 3, 4, 2, 2, 2, 2, 2, 3, 3, 0, 4, 4, 1, 2, 1, 2, 1, 2, 2, 4, 3, 3, 1, 1, 0, 1, 2, 1, 1, 1, 4, 4, 3, 3, 0, 3, 3, 4, 1, 2, 0, 3, 1, 4, 3, 2, 2, 3, 4, 4, 4, 3, 4, 0, 1, 0, 4, 2, 0, 0, 3, 0, 1, 3, 4, 0, 3, 4, 1, 0, 1, 0, 3, 0, 0, 0, 2, 1, 1, 1, 0, 0, 3, 1, 1, 0, 0, 4, 1, 3, 3, 0, 0, 3, 3, 4, 0, 0, 3, 2, 3, 1, 4, 2, 4, 1, 0, 0, 2, 1, 4, 1, 3, 2, 1, 2, 2, 2, 3, 1, 2, 3, 2, 2, 1, 1, 4, 4, 4, 0, 4, 1, 3, 1, 0, 3, 1, 4, 4, 4, 2, 2, 2, 3, 3, 3, 1, 4, 3, 0, 3, 3, 4, 3, 0, 0, 4, 0, 4, 4, 4, 4, 3, 1, 2, 3, 4, 2, 3, 3, 3, 2, 0, 3, 2, 3, 2, 3, 4, 2, 3, 4, 1, 4, 2, 3, 1, 2, 2, 4, 2, 0, 0, 4, 2, 0, 4, 4, 4, 4, 4, 0, 2, 1, 2, 3, 4, 1, 2, 1, 0, 3, 1, 2, 0, 4, 1, 4, 1, 3, 1, 0, 1, 1, 1, 4, 0, 0, 0, 2, 2, 4, 3, 4, 1, 3, 3, 0, 1, 1, 4, 2, 4, 1, 0, 2, 4, 0, 4, 0, 0, 0, 3, 4, 3, 1, 3, 4, 1, 3, 3, 1, 2, 3, 4, 0, 2, 3, 0, 1, 0, 3, 0, 2, 1, 2, 1, 3, 2, 4, 1, 2, 1, 2, 2, 0, 4, 1, 3, 1, 3, 3, 3, 4, 3, 3, 0, 3, 2, 0, 3, 0, 4, 0, 3, 3, 1, 1, 3, 2, 2, 1, 2, 3, 4, 3, 3, 4, 4, 3, 2, 2, 0, 2, 4, 2, 0, 0, 3, 2, 3, 0, 4, 3, 0, 3, 3, 3, 0, 4, 2, 3, 0, 1, 4, 0, 0, 0, 2, 3, 4, 4, 0, 4, 4, 1, 1, 2, 0, 2, 1, 4, 0, 3, 3, 1, 3, 1, 1, 1, 1, 0, 2, 2, 2, 1, 2, 3, 1, 3, 2, 4, 0, 0, 3, 1, 2, 1, 4, 2, 4, 3, 1, 0, 2, 0, 0, 0, 2, 4, 2, 2, 3, 3, 4, 1, 1, 2, 0, 2, 0, 1, 0, 4, 1, 0, 3, 1, 1, 1, 0, 0, 1, 4, 2, 4, 2, 3, 0, 3, 1, 4, 0, 2, 3, 4, 4, 0, 1, 3, 3, 3, 4, 1, 2, 1, 1, 3, 4, 3, 4, 0, 3, 3, 4, 4, 3, 0, 0, 2, 0, 4, 3, 1, 4, 1, 4, 1, 3, 0, 2, 1, 0, 0, 3, 1, 0, 4, 3, 3, 0, 3, 2, 4, 0, 2, 0, 4, 1, 4, 4, 3, 0, 0, 4, 3, 3, 0, 2, 1, 3, 2, 4, 0, 0, 2, 2, 3, 1, 4, 2, 4, 4, 1, 3, 2, 0, 1, 3, 0, 3, 3, 0, 3, 3, 4, 2, 1, 0, 1, 3, 1, 0, 0, 1, 3, 2, 2, 2, 2, 4, 0, 0, 4, 0, 1, 1, 2, 3, 3, 2, 1, 0, 3, 4, 4, 2, 0, 0, 1, 3, 2, 3, 1, 1, 1, 1, 2, 3, 3, 1, 0, 2, 2, 4, 2, 2, 1, 2, 4, 4, 3, 3, 2, 3, 3, 3, 0, 1, 0, 1, 4, 2, 1, 0, 1, 2, 4, 1, 4, 2, 1, 2, 3, 4, 1, 0, 4, 0, 4, 1, 4, 4, 1, 3, 4, 3, 1, 1, 0, 2, 2, 0, 3, 2, 1, 1, 4, 3, 0, 3, 0, 1, 4, 1, 3, 3, 4, 0, 1, 2, 1, 0, 0, 3, 1, 4, 4, 4, 4, 4, 0, 1, 0, 1, 3, 2, 3, 1, 4, 1, 2, 2, 0, 0, 1, 2, 0, 1, 3, 0, 1, 3, 2, 4, 3, 0, 3, 0, 0, 3, 2, 2, 3, 4, 2, 0, 4, 3, 1, 0, 4, 2, 3, 0, 3, 2, 3, 2, 0, 3, 1, 0, 1, 1, 4, 4, 1, 0, 3, 3, 1, 3, 0, 3, 2, 1, 3, 1, 2, 3, 2, 1, 1, 0, 4, 2, 1, 4, 1, 2, 4, 3, 2, 2, 2, 3, 1, 3, 2, 4, 2, 0, 2, 2, 3, 1, 1, 3, 1, 2, 3, 0, 1, 2, 4, 2, 2, 3, 3, 2, 1, 2, 2, 3, 1, 2, 4, 3, 1, 2, 1, 4, 2, 2, 1, 3, 4, 1, 4, 4, 2, 3, 2, 2, 2, 1, 1, 4, 2, 4, 0, 4, 1, 2, 3, 2, 3, 4, 1, 0, 2, 4, 2, 4, 4, 3, 1, 3, 3, 1, 0, 4, 4, 1, 1, 0, 2, 2, 1, 0, 1, 3, 2, 0, 3, 4, 4, 1, 2, 3, 1, 4, 4, 2, 1, 1, 3, 3, 1, 2, 0, 2, 1, 3, 3, 1, 2, 4, 4, 2, 2, 0, 1, 0, 0, 0, 4, 0, 2, 2, 2, 0, 4, 1, 3, 4, 1, 4, 4, 1, 4, 0, 2, 1, 0, 3, 0, 3, 2, 0, 0, 1, 0, 0, 0, 3, 3, 3, 0, 4, 1, 4, 2, 2, 2, 4, 2, 4, 4, 2, 4, 4, 3, 3, 3, 4, 4, 4, 3, 2, 4, 2, 4, 2, 4, 1, 2, 1, 0, 1, 0, 0, 2, 0, 4, 3, 3, 0, 2, 3, 4, 0, 1, 0, 3, 2, 2, 0, 4, 4, 4, 3, 2, 4, 1, 3, 3, 4, 2, 0, 3, 3, 1, 1, 3, 2, 4, 3, 3, 3, 1, 1, 0, 4, 0, 2, 0, 1, 3, 0, 2, 3, 0, 3, 2, 4, 3, 4, 1, 1, 1, 2, 3, 2, 2, 4, 3, 1, 3, 0, 1, 4, 4, 4, 4, 0, 4, 0, 1, 1, 0, 4, 2, 2, 4, 0, 2, 1, 3, 2, 3, 0, 4, 0, 2, 1, 1, 4, 2, 1, 0, 0, 3, 0, 4, 2, 1, 0, 1, 2, 0, 3, 0, 0, 1, 3, 2, 0, 0, 4, 2, 4, 2, 1, 3, 4, 4, 4, 3, 0, 4, 2, 4, 4, 0, 3, 4, 2, 4, 1, 0, 1, 3, 3, 2, 2, 4, 2, 2, 0, 3, 2, 2, 4, 0, 0, 1, 3, 1, 2, 0, 0, 0, 3, 1, 2, 2, 0, 4, 1, 2, 1, 1, 4, 1, 2, 2, 1, 4, 3, 3, 1, 0, 4, 4, 2, 3, 3, 4, 2, 3, 2, 2, 4, 2, 4, 4, 2, 0, 0, 4, 1, 3, 2, 2, 4, 2, 4, 2, 2, 4, 1, 4, 0, 3, 3, 0, 1, 3, 3, 3, 0, 3, 3, 0, 0, 1, 2, 4, 4, 0, 0, 4, 4, 4, 2, 0, 0, 2, 3, 1, 1, 2, 2, 0, 3, 0, 3, 0, 3, 2, 3, 4, 2, 2, 1, 0, 3, 3, 1, 3, 4, 1, 1, 1, 1, 1, 0, 3, 1, 0, 0, 1, 0, 3, 4, 1, 3, 0, 3, 2, 3, 2, 4, 1, 1, 2, 4, 2, 2, 4, 2, 4, 1, 4, 2, 0, 4, 2, 1, 0, 4, 1, 1, 4, 3, 3, 0, 3, 4, 3, 4, 3, 4, 0, 3, 4, 0, 0, 2, 2, 3, 4, 4, 4, 4, 2, 1, 3, 4, 1, 3, 3, 2, 1, 1, 0, 0, 1, 3, 3, 1, 2, 3, 1, 4, 2, 4, 3, 0, 3, 3, 0, 4, 2, 2, 0, 4, 2, 1, 0, 3, 0, 0, 4, 1, 4, 4, 0, 1, 4, 0, 4, 2, 2, 4, 1, 1, 2, 4, 1, 2, 0, 0, 0, 4, 4, 0, 3, 3, 2, 1, 2, 0, 2, 2, 3, 4, 4, 2, 0, 4, 3, 1, 4, 3, 4, 2, 0, 3, 0, 2, 4, 4, 2, 0, 4, 0, 1, 4, 1, 4, 4, 1, 0, 0, 2, 1, 2, 0, 3, 1, 2, 0, 4, 2, 4, 4, 2, 4, 2, 3, 1, 3, 0, 3, 1, 4, 3, 0, 4, 3, 3, 0, 0, 3, 0, 4, 1, 3, 1, 3, 3, 3, 4, 4, 0, 0, 2, 0, 0, 4, 4, 3, 0, 3, 0, 1, 2, 1, 1, 2, 0, 3, 1, 0, 1, 2, 2, 3, 4, 3, 1, 3, 2, 3, 4, 2, 4, 2, 1, 3, 0, 2, 3, 4, 4, 0, 0, 1, 0, 3, 2, 0, 4, 2, 0, 3, 0, 2, 0, 3, 1, 3, 2, 4, 0, 2, 3, 3, 3, 3, 2, 0, 3, 0, 2, 3, 3, 4, 4, 0, 1, 4, 3, 2, 3, 0, 3, 1, 0, 4, 0, 2, 0, 4, 1, 0, 1, 3, 4, 4, 1, 1, 1, 0, 0, 2, 3, 1, 0, 2, 4, 2, 1, 3, 3, 4, 4, 4, 3, 4, 4, 4, 0, 4, 4, 1, 0, 4, 2, 3, 4, 2, 2, 1, 2, 0, 1, 1, 4, 4, 0, 2, 2, 4, 2, 4, 4, 4, 0, 4, 4, 3, 1, 3, 1, 1, 0, 4, 1, 0, 4, 2, 0, 2, 0, 1, 2, 1, 2, 1, 1, 3, 1, 1, 1, 2, 0, 2, 3, 3, 2, 0, 0, 4, 4, 2, 4, 2, 4, 0, 0, 0, 1, 4, 3, 4, 2, 1, 2, 4, 4, 0, 3, 4, 2, 2, 1, 1, 3, 4, 3, 3, 1, 4, 1, 4, 4, 3, 1, 0, 0, 1, 2, 0, 0, 2, 2, 3, 0, 3, 3, 1, 2, 2, 2, 4, 1, 0, 2, 0, 3, 3, 4, 3, 0, 0, 0, 1, 0, 4, 4, 3, 0]\n"
     ]
    }
   ],
   "source": [
    "Ann_labels=[]\n",
    "for pred in Ann_pred:\n",
    "    Ann_labels.append(np.argmax(pred))\n",
    "print(Ann_labels)"
   ]
  },
  {
   "cell_type": "code",
   "execution_count": 18,
   "id": "310c01e6",
   "metadata": {},
   "outputs": [
    {
     "name": "stdout",
     "output_type": "stream",
     "text": [
      "[1, 0, 1, 0, 2, 4, 4, 2, 1, 3, 1, 4, 0, 4, 0, 4, 1, 2, 1, 2, 3, 2, 1, 3, 4, 1, 1, 4, 2, 0, 2, 4, 0, 2, 0, 0, 1, 1, 3, 0, 0, 2, 1, 1, 0, 2, 0, 0, 3, 0, 2, 1, 2, 2, 0, 2, 0, 2, 3, 0, 2, 0, 0, 4, 2, 3, 1, 0, 0, 4, 2, 1, 4, 1, 4, 4, 3, 3, 3, 0, 1, 3, 4, 4, 4, 0, 0, 2, 2, 0, 2, 4, 0, 3, 4, 3, 4, 0, 1, 4, 4, 4, 1, 1, 3, 3, 3, 1, 1, 0, 4, 3, 2, 2, 0, 1, 4, 2, 4, 0, 4, 1, 1, 1, 2, 3, 2, 4, 3, 1, 0, 2, 4, 0, 1, 0, 2, 2, 1, 0, 3, 1, 2, 3, 4, 1, 3, 1, 2, 1, 3, 4, 0, 2, 4, 4, 3, 3, 1, 2, 4, 2, 2, 3, 0, 1, 3, 2, 2, 3, 3, 0, 0, 2, 3, 0, 2, 1, 3, 4, 3, 2, 2, 3, 1, 4, 1, 0, 2, 2, 3, 0, 3, 4, 2, 1, 3, 2, 0, 3, 4, 2, 2, 2, 4, 1, 1, 0, 4, 0, 3, 1, 2, 2, 2, 0, 0, 4, 4, 2, 2, 4, 4, 4, 1, 3, 1, 4, 1, 3, 2, 2, 1, 4, 0, 2, 3, 2, 3, 0, 1, 1, 2, 2, 1, 4, 3, 0, 4, 3, 2, 2, 1, 0, 3, 3, 2, 2, 0, 0, 3, 2, 2, 4, 0, 0, 4, 3, 2, 4, 0, 4, 2, 3, 4, 3, 2, 2, 0, 3, 2, 1, 1, 3, 1, 4, 1, 4, 4, 1, 4, 4, 3, 4, 3, 4, 2, 1, 2, 4, 3, 4, 3, 0, 1, 2, 2, 3, 2, 3, 4, 0, 2, 3, 1, 3, 1, 2, 2, 4, 2, 2, 1, 4, 0, 3, 1, 4, 0, 3, 3, 0, 2, 0, 2, 3, 1, 2, 0, 2, 1, 2, 1, 0, 1, 3, 2, 1, 3, 2, 0, 3, 3, 2, 3, 1, 2, 1, 0, 1, 2, 4, 1, 0, 3, 3, 3, 1, 3, 0, 3, 0, 1, 4, 3, 2, 2, 4, 1, 3, 0, 3, 2, 0, 4, 1, 1, 2, 2, 3, 2, 1, 0, 3, 1, 0, 4, 1, 0, 0, 4, 2, 2, 3, 3, 3, 2, 0, 2, 3, 0, 3, 4, 1, 2, 2, 2, 2, 1, 4, 3, 4, 2, 0, 2, 3, 4, 3, 3, 1, 3, 3, 0, 2, 2, 2, 3, 4, 1, 3, 4, 4, 2, 2, 0, 0, 2, 2, 1, 2, 4, 2, 3, 2, 0, 2, 1, 4, 2, 2, 4, 0, 2, 0, 4, 3, 0, 1, 1, 1, 0, 2, 0, 3, 0, 4, 1, 3, 3, 1, 4, 4, 1, 1, 1, 2, 1, 1, 0, 2, 3, 0, 1, 3, 1, 0, 4, 2, 4, 2, 1, 2, 3, 1, 1, 2, 3, 3, 1, 1, 3, 1, 0, 2, 2, 4, 2, 0, 0, 1, 4, 4, 3, 3, 3, 2, 1, 4, 1, 0, 3, 0, 2, 2, 3, 1, 4, 4, 4, 1, 3, 0, 4, 0, 0, 0, 4, 3, 3, 4, 0, 1, 1, 0, 3, 2, 3, 2, 0, 4, 3, 4, 2, 4, 0, 1, 4, 2, 0, 4, 1, 1, 4, 1, 4, 1, 4, 0, 0, 3, 2, 3, 1, 3, 3, 0, 2, 4, 4, 3, 4, 2, 2, 0, 4, 0, 0, 4, 4, 4, 0, 0, 0, 0, 2, 1, 3, 4, 0, 3, 2, 2, 0, 2, 3, 3, 2, 3, 0, 1, 3, 0, 4, 0, 0, 2, 4, 3, 2, 1, 1, 2, 1, 1, 4, 0, 1, 2, 2, 0, 1, 3, 4, 4, 2, 4, 2, 3, 2, 1, 3, 3, 0, 1, 0, 0, 3, 1, 2, 2, 3, 3, 3, 4, 4, 4, 2, 0, 2, 2, 2, 4, 2, 4, 3, 2, 4, 2, 1, 1, 4, 4, 0, 3, 4, 3, 4, 0, 2, 1, 4, 4, 1, 0, 1, 1, 2, 1, 0, 1, 2, 0, 4, 3, 3, 2, 1, 1, 2, 0, 0, 4, 1, 0, 0, 4, 3, 4, 1, 3, 1, 1, 2, 1, 0, 3, 3, 0, 3, 3, 3, 3, 0, 4, 3, 3, 3, 0, 3, 1, 3, 1, 1, 3, 0, 0, 1, 3, 3, 3, 1, 0, 2, 4, 4, 4, 1, 0, 0, 1, 1, 3, 3, 0, 1, 0, 2, 3, 4, 1, 0, 1, 4, 0, 0, 0, 0, 1, 0, 1, 2, 2, 1, 1, 2, 1, 3, 1, 2, 0, 1, 3, 0, 4, 3, 3, 1, 3, 1, 4, 1, 3, 4, 4, 0, 0, 3, 4, 2, 3, 2, 4, 4, 0, 3, 2, 1, 1, 2, 1, 3, 3, 4, 2, 2, 3, 1, 0, 4, 3, 3, 3, 0, 4, 4, 2, 3, 2, 2, 4, 1, 1, 3, 4, 4, 3, 4, 4, 4, 2, 1, 2, 3, 1, 1, 2, 0, 2, 0, 4, 3, 2, 0, 4, 3, 1, 2, 2, 3, 3, 0, 0, 0, 1, 4, 0, 4, 2, 2, 4, 2, 4, 2, 1, 2, 1, 3, 3, 4, 0, 4, 1, 0, 4, 4, 3, 4, 4, 2, 0, 0, 2, 3, 4, 3, 2, 4, 1, 2, 1, 4, 3, 1, 2, 2, 4, 4, 2, 3, 2, 3, 4, 4, 2, 1, 4, 4, 4, 3, 4, 1, 2, 4, 1, 0, 0, 4, 2, 2, 3, 2, 3, 4, 2, 1, 4, 2, 3, 1, 3, 4, 3, 3, 2, 2, 3, 0, 1, 1, 3, 1, 2, 2, 3, 0, 4, 4, 0, 2, 2, 2, 4, 3, 0, 2, 4, 1, 1, 0, 4, 4, 3, 4, 1, 2, 0, 0, 4, 4, 3, 4, 4, 0, 0, 4, 0, 4, 4, 3, 3, 0, 1, 0, 4, 0, 1, 3, 3, 1, 2, 0, 2, 2, 0, 1, 2, 0, 2, 0, 4, 4, 1, 2, 0, 4, 0, 2, 1, 4, 2, 2, 4, 4, 3, 0, 3, 1, 3, 4, 0, 3, 4, 4, 3, 2, 4, 2, 1, 0, 4, 2, 3, 2, 0, 3, 3, 4, 1, 4, 1, 2, 1, 4, 3, 3, 1, 4, 2, 0, 4, 1, 4, 1, 3, 3, 1, 4, 2, 2, 0, 2, 1, 1, 2, 4, 3, 4, 3, 4, 1, 2, 1, 2, 3, 1, 1, 4, 4, 1, 1, 4, 2, 3, 2, 4, 0, 4, 3, 3, 2, 3, 0, 2, 2, 1, 3, 1, 4, 4, 0, 0, 1, 3, 1, 3, 0, 2, 1, 2, 1, 1, 3, 4, 0, 1, 1, 0, 3, 4, 3, 0, 0, 2, 3, 3, 2, 1, 1, 4, 4, 0, 2, 1, 1, 2, 2, 2, 1, 2, 0, 4, 1, 1, 2, 0, 4, 3, 2, 2, 1, 4, 0, 3, 3, 2, 1, 2, 2, 4, 4, 1, 1, 2, 2, 4, 0, 0, 4, 4, 2, 4, 4, 4, 3, 2, 1, 0, 3, 3, 1, 1, 3, 0, 0, 2, 4, 1, 0, 1, 0, 2, 3, 2, 3, 0, 1, 3, 2, 0, 1, 0, 3, 2, 4, 0, 4, 4, 0, 3, 0, 4, 4, 0, 3, 0, 3, 2, 0, 2, 4, 4, 4, 2, 3, 0, 2, 0, 1, 0, 4, 3, 3, 4, 2, 2, 3, 3, 3, 0, 4, 4, 0, 1, 0, 4, 3, 4, 2, 1, 2, 1, 2, 2, 0, 0, 4, 2, 1, 1, 0, 0, 3, 0, 1, 4, 2, 0, 4, 4, 4, 2, 4, 3, 1, 3, 2, 1, 0, 0, 0, 1, 4, 3, 1, 0, 4, 0, 3, 0, 0, 0, 0, 3, 3, 2, 2, 2, 4, 2, 1, 4, 1, 4, 1, 2, 4, 0, 4, 2, 0, 4, 2, 3, 4, 0, 3, 3, 4, 0, 1, 3, 2, 0, 4, 1, 3, 3, 0, 2, 2, 4, 3, 3, 0, 3, 3, 3, 2, 3, 1, 3, 1, 1, 1, 2, 0, 4, 2, 2, 2, 0, 2, 0, 4, 3, 0, 2, 3, 0, 4, 1, 0, 2, 0, 1, 4, 4, 1, 0, 1, 2, 1, 2, 2, 0, 3, 1, 4, 3, 4, 3, 3, 3, 4, 0, 1, 2, 0, 4, 0, 1, 2, 0, 4, 1, 4, 4, 3, 4, 3, 1, 0, 0, 0, 2, 3, 4, 3, 3, 0, 2, 4, 4, 3, 3, 0, 4, 2, 0, 4, 0, 3, 4, 1, 1, 2, 0, 0, 1, 0, 2, 3, 2, 2, 0, 0, 2, 3, 3, 3, 3, 4, 3, 3, 1, 1, 4, 4, 2, 4, 2, 1, 4, 4, 4, 4, 2, 4, 1, 1, 3, 1, 3, 3, 1, 1, 1, 0, 4, 1, 0, 3, 4, 1, 2, 3, 2, 3, 3, 3, 4, 1, 1, 0, 3, 1, 1, 0, 3, 3, 2, 1, 3, 2, 0, 1, 0, 3, 2, 0, 1, 2, 2, 3, 0, 2, 4, 2, 3, 4, 3, 0, 4, 0, 2, 1, 0, 4, 3, 4, 1, 4, 3, 4, 4, 4, 3, 0, 4, 1, 1, 4, 4, 2, 1, 4, 4, 4, 4, 0, 1, 4, 2, 4, 1, 0, 1, 1, 3, 0, 1, 1, 0, 0, 0, 1, 1, 1, 1, 2, 4, 1, 1, 4, 0, 0, 2, 2, 3, 4, 4, 1, 4, 0, 1, 1, 4, 2, 3, 0, 1, 0, 0, 3, 1, 2, 0, 4, 3, 2, 3, 4, 2, 2, 4, 3, 4, 4, 2, 0, 2, 2, 3, 4, 3, 1, 3, 0, 1, 0, 2, 3, 3, 2, 4, 3, 4, 0, 4, 4, 4, 1, 2, 4, 0, 0, 4, 3, 0, 4, 2, 4, 2, 3, 2, 2, 4, 2, 3, 2, 3, 1, 2, 1, 0, 4, 4, 4, 3, 1, 4, 3, 0, 3, 2, 3, 1, 0, 0, 0, 2, 3, 3, 0, 4, 4, 4, 3, 3, 2, 4, 1, 1, 4, 2, 0, 3, 1, 2, 3, 4, 4, 4, 1, 3, 3, 0, 0, 3, 3, 2, 3, 3, 1, 0, 1, 1, 3, 0, 2, 2, 3, 2, 4, 4, 3, 1, 1, 0, 4, 2, 0, 3, 3, 4, 0, 2, 1, 1, 0, 3, 4, 4, 2, 0, 1, 4, 2, 0, 1, 2, 2, 3, 1, 0, 0, 2, 0, 1, 0, 2, 3, 4, 1, 2, 1, 3, 3, 4, 4, 0, 0, 2, 2, 2, 3, 1, 1, 2, 4, 0, 3, 2, 4, 3, 1, 4, 2, 3, 4, 2, 3, 3, 1, 2, 2, 3, 0, 4, 1, 4, 4, 4, 3, 4, 4, 1, 3, 3, 3, 1, 4, 4, 4, 0, 3, 3, 0, 1, 0, 3, 4, 2, 3, 2, 2, 4, 4, 0, 3, 2, 4, 1, 3, 1, 2, 3, 1, 2, 2, 3, 2, 1, 3, 1, 3, 4, 2, 1, 4, 3, 0, 1, 1, 3, 4, 3, 3, 0, 0, 0, 0, 1, 4, 1, 2, 4, 2, 0, 0, 1, 2, 1, 3, 0, 1, 3, 4, 3, 0, 0, 0, 1, 0, 4, 1, 2, 1, 3, 3, 0, 0, 0, 1, 2, 0, 1, 1, 2, 0, 4, 0, 1, 0, 0, 2, 4, 3, 3, 0, 0, 3, 1, 1, 3, 3, 2, 1, 4, 3, 3, 3, 2, 1, 4, 4, 2, 4, 1, 0, 3, 4, 2, 2, 2, 1, 4, 0, 0, 4, 1, 0, 4, 4, 1, 3, 0, 2, 3, 4, 2, 3, 4, 2, 4, 2, 4, 4, 4, 1, 3, 3, 2, 4, 2, 4, 1, 3, 1, 0, 1, 1, 4, 0, 2, 3, 1, 4, 1, 1, 1, 0, 1, 2, 4, 0, 2, 2, 1, 2, 2, 1, 1, 2, 1, 2, 0, 3, 2, 2, 1, 2, 4, 3, 2, 2, 0, 3, 0, 1, 4, 3, 2, 1, 2, 1, 4, 4, 0, 2, 4, 3, 2, 4, 0, 4, 1, 1, 3, 4, 4, 0, 0, 4, 1, 3, 1, 1, 0, 4, 4, 4, 1, 4, 1, 3, 2, 3, 4, 2, 0, 0, 0, 3, 2, 1, 2, 0, 0, 1, 3, 4, 4, 2, 2, 3, 3, 2, 0, 0, 4, 1, 2, 0, 4, 0, 4, 0, 0, 4, 2, 0, 3, 2, 1, 0, 4, 4, 3, 4, 1, 2, 2, 4, 2, 3, 2, 4, 2, 4, 3, 3, 4, 3, 4, 0, 3, 3, 2, 0, 1, 1, 3, 3, 0, 0, 1, 2, 3, 3, 1, 0, 1, 0, 2, 0, 3, 3, 3, 1, 2, 4, 4, 4, 3, 3, 3, 1, 1, 1, 4, 4, 4, 3, 0, 3, 2, 4, 1, 3, 4, 2, 4, 4, 1, 4, 1, 0, 2, 4, 1, 3, 0, 3, 2, 4, 2, 4, 3, 2, 2, 1, 3, 0, 3, 0, 1, 1, 4, 1, 2, 3, 0, 3, 1, 2, 3, 4, 3, 4, 0, 4, 3, 1, 3, 0, 4, 3, 0, 0, 3, 0, 3, 2, 4, 0, 4, 4, 0, 4, 2, 0, 0, 0, 0, 3, 0, 0, 2, 2, 0, 0, 0, 1, 0, 0, 2, 3, 0, 0, 0, 1, 1, 2, 4, 4, 4, 0, 3, 4, 1, 3, 1, 2, 3, 2, 1, 0, 3, 3, 0, 3, 2, 0, 3, 4, 1, 2, 2, 1, 0, 4, 0, 3, 3, 2, 4, 3, 3, 0, 2, 4, 1, 0, 1, 0, 4, 4, 3, 1, 2, 3, 3, 1, 2, 3, 4, 0, 0, 1, 4, 2, 4, 1, 1, 2, 2, 0, 2, 0, 2, 1, 4, 4, 2, 3, 4, 4, 3, 2, 1, 0, 4, 1, 3, 3, 3, 0, 4, 4, 4, 1, 3, 4, 4, 1, 2, 3, 2, 3, 4, 3, 3, 1, 1, 4, 0, 2, 2, 4, 2, 0, 1, 0, 3, 1, 0, 0, 2, 4, 0, 3, 3, 3, 3, 3, 1, 0, 0, 3, 0, 4, 2, 4, 2, 0, 4, 4, 3, 0, 2, 2, 2, 1, 2, 0, 3, 4, 1, 4, 0, 0, 0, 2, 4, 3, 2, 3, 3, 1, 0, 0, 1, 3, 3, 3, 4, 3, 3, 1, 1, 4, 2, 2, 4, 0, 1, 0, 3, 3, 0, 0, 4, 2, 1, 1, 4, 1, 3, 1, 0, 2, 0, 1, 3, 0, 3, 0, 0, 0, 2, 0, 2, 1, 1, 0, 1, 4, 4, 3, 0, 1, 1, 1, 2, 2, 2, 4, 2, 1, 0, 2, 2, 0, 4, 0, 3, 3, 0, 3, 1, 4, 4, 4, 2, 0, 3, 2, 1, 2, 0, 3, 2, 2, 1, 4, 3, 0, 4, 2, 1, 2, 1, 0, 1, 3, 2, 2, 2, 2, 1, 0, 3, 4, 0, 4, 3, 2, 0, 0, 4, 4, 4, 0, 3, 0, 4, 1, 0, 2, 2, 4, 2, 1, 4, 0, 4, 0, 0, 2, 2, 0, 3, 1, 1, 1, 1, 0, 2, 3, 2, 0, 2, 1, 2, 3, 2, 0, 4, 4, 3, 3, 0, 0, 1, 0, 3, 0, 3, 4, 3, 0, 2, 2, 0, 2, 4, 4, 3, 1, 0, 2, 2, 0, 3, 3, 1, 3, 3, 0, 4, 3, 4, 1, 2, 2, 4, 4, 0, 4, 1, 3, 1, 2, 1, 0, 2, 4, 4, 0, 3, 0, 2, 3, 4, 1, 2, 3, 2, 3, 4, 1, 1, 2, 4, 0, 3, 2, 4, 2, 0, 2, 1, 2, 4, 4, 1, 3, 3, 3, 0, 0, 3, 1, 1, 3, 2, 4, 3, 3, 2, 4, 4, 2, 2, 1, 3, 0, 0, 0, 4, 0, 4, 3, 0, 2, 2, 4, 4, 0, 1, 2, 1, 1, 1, 4, 2, 4, 4, 1, 3, 4, 2, 2, 2, 0, 1, 3, 2, 0, 4, 0, 0, 4, 4, 3, 4, 0, 3, 4, 3, 3, 0, 3, 2, 3, 3, 4, 3, 2, 4, 2, 0, 0, 1, 3, 4, 1, 3, 0, 2, 4, 2, 0, 3, 0, 0, 3, 1, 0, 4, 3, 0, 1, 2, 4, 1, 4, 4, 1, 0, 4, 4, 0, 4, 1, 4, 0, 1, 4, 2, 1, 2, 1, 3, 2, 3, 3, 3, 2, 0, 3, 1, 2, 0, 4, 0, 2, 4, 1, 2, 3, 0, 4, 0, 1, 2, 0, 3, 1, 2, 0, 4, 3, 4, 3, 3, 0, 3, 4, 2, 1, 1, 1, 0, 2, 4, 4, 4, 2, 4, 1, 2, 1, 4, 3, 4, 4, 3, 4, 4, 2, 1, 3, 0, 0, 2, 2, 4, 0, 0, 2, 2, 2, 4, 2, 4, 0, 4, 3, 0, 2, 4, 0, 1, 0, 4, 4, 3, 1, 3, 2, 4, 1, 1, 3, 0, 4, 1, 2, 0, 3, 0, 3, 1, 0, 4, 4, 1, 0, 1, 0, 3, 0, 0, 1, 3, 3, 2, 4, 3, 2, 4, 0, 1, 4, 2, 3, 4, 4, 1, 4, 4, 4, 0, 2, 0, 1, 2, 2, 4, 1, 0, 2, 0, 3, 0, 0, 0, 4, 1, 2, 0, 0, 0, 2, 0, 3, 1, 2, 2, 0, 1, 0, 3, 0, 4, 3, 2, 0, 4, 1, 4, 1, 3, 2, 4, 2, 4, 0, 4, 3, 1, 0, 4, 0, 4, 1, 3, 1, 0, 1, 3, 4, 1, 1, 0, 2, 0, 3, 0, 2, 4, 4, 4, 4, 2, 2, 1, 3, 3, 2, 3, 3, 3, 4, 0, 3, 4, 0, 3, 1, 0, 1, 4, 0, 0, 3, 1, 2, 2, 4, 3, 0, 2, 3, 3, 0, 2, 0, 1, 0, 2, 3, 4, 1, 4, 3, 3, 0, 1, 2, 2, 3, 1, 0, 1, 0, 2, 1, 3, 4, 3, 3, 3, 2, 4, 0, 2, 4, 1, 4, 4, 2, 1, 3, 3, 3, 2, 4, 1, 0, 0, 0, 4, 0, 0, 4, 4, 0, 2, 4, 2, 2, 4, 4, 3, 4, 0, 4, 3, 4, 1, 0, 2, 0, 4, 2, 4, 1, 2, 2, 4, 4, 3, 0, 2, 2, 3, 4, 4, 2, 2, 3, 1, 1, 2, 0, 3, 4, 1, 2, 0, 0, 4, 4, 3, 1, 1, 3, 2, 2, 2, 2, 0, 0, 4, 2, 0, 1, 3, 4, 2, 1, 0, 3, 0, 3, 2, 1, 4, 2, 1, 1, 1, 3, 4, 2, 2, 1, 3, 0, 3, 4, 1, 4, 2, 1, 1, 1, 2, 3, 4, 2, 1, 2, 4, 1, 1, 2, 2, 1, 3, 1, 0, 1, 2, 2, 2, 4, 3, 0, 3, 2, 2, 3, 1, 4, 4, 4, 2, 1, 4, 4, 2, 2, 1, 1, 1, 2, 2, 0, 2, 2, 0, 4, 0, 1, 1, 1, 3, 0, 0, 3, 1, 1, 4, 2, 0, 0, 4, 4, 0, 1, 2, 3, 2, 0, 0, 2, 1, 1, 0, 4, 1, 2, 3, 0, 3, 0, 4, 1, 1, 0, 2, 1, 0, 1, 3, 0, 3, 3, 0, 0, 2, 4, 2, 0, 1, 1, 0, 1, 0, 1, 3, 2, 2, 1, 4, 1, 3, 1, 2, 2, 3, 2, 2, 4, 2, 3, 0, 2, 0, 3, 3, 1, 4, 3, 3, 1, 3, 4, 2, 4, 3, 1, 0, 4, 0, 1, 4, 3, 2, 0, 0, 1, 4, 3, 2, 4, 4, 3, 2, 4, 3, 2, 2, 1, 1, 4, 1, 3, 0, 2, 1, 0, 2, 4, 1, 2, 0, 1, 1, 3, 4, 2, 4, 3, 0, 0, 4, 2, 0, 2, 3, 3, 2, 0, 2, 3, 3, 0, 2, 0, 2, 0, 2, 4, 4, 2, 2, 0, 4, 3, 0, 1, 0, 2, 1, 2, 3, 0, 1, 1, 2, 3, 2, 1, 0, 0, 1, 4, 3, 2, 4, 3, 4, 0, 1, 1, 1, 3, 2, 1, 0, 2, 4, 2, 4, 2, 0, 0, 4, 1, 3, 1, 0, 0, 2, 0, 2, 2, 0, 3, 3, 4, 2, 2, 2, 2, 2, 3, 3, 0, 2, 4, 1, 0, 1, 2, 1, 2, 2, 4, 3, 3, 1, 1, 0, 1, 2, 1, 1, 1, 4, 4, 3, 3, 0, 3, 3, 4, 1, 2, 0, 3, 1, 4, 3, 2, 2, 3, 4, 4, 4, 3, 4, 0, 1, 0, 4, 2, 0, 0, 3, 0, 1, 3, 4, 0, 3, 4, 1, 0, 1, 0, 3, 0, 0, 0, 2, 1, 1, 1, 0, 0, 3, 1, 1, 0, 0, 0, 1, 3, 3, 0, 0, 3, 3, 4, 0, 0, 3, 2, 3, 1, 4, 2, 2, 1, 0, 0, 2, 1, 4, 1, 3, 2, 1, 2, 2, 2, 3, 1, 2, 3, 2, 2, 1, 1, 4, 4, 4, 0, 4, 1, 3, 1, 0, 3, 1, 4, 4, 4, 2, 2, 2, 3, 3, 3, 1, 4, 3, 0, 3, 3, 4, 3, 0, 0, 4, 0, 4, 4, 4, 4, 3, 1, 2, 3, 4, 2, 3, 3, 3, 2, 0, 3, 2, 3, 2, 3, 4, 2, 3, 4, 1, 4, 2, 3, 1, 2, 2, 4, 2, 0, 0, 4, 2, 0, 4, 4, 4, 4, 4, 0, 2, 1, 2, 3, 4, 1, 2, 1, 0, 3, 1, 2, 0, 4, 1, 4, 1, 3, 1, 0, 1, 1, 1, 2, 0, 0, 0, 2, 2, 4, 3, 4, 1, 3, 3, 0, 1, 1, 4, 2, 2, 1, 0, 2, 0, 0, 4, 0, 0, 0, 3, 4, 3, 1, 3, 4, 1, 3, 3, 1, 2, 3, 4, 0, 2, 3, 0, 1, 0, 3, 0, 2, 1, 2, 1, 3, 2, 4, 1, 2, 1, 2, 2, 0, 4, 1, 3, 1, 3, 3, 3, 4, 3, 3, 0, 3, 2, 0, 3, 0, 4, 0, 3, 3, 1, 1, 3, 2, 2, 1, 2, 3, 4, 3, 3, 4, 4, 3, 2, 2, 0, 2, 4, 2, 0, 0, 3, 2, 3, 0, 4, 3, 0, 3, 3, 3, 0, 4, 2, 3, 0, 1, 4, 0, 0, 0, 2, 0, 4, 4, 0, 4, 4, 1, 1, 2, 0, 2, 1, 4, 0, 3, 3, 1, 3, 1, 1, 1, 1, 0, 2, 2, 2, 1, 2, 3, 1, 3, 2, 4, 0, 0, 3, 1, 2, 1, 4, 2, 4, 3, 1, 0, 2, 0, 0, 0, 2, 4, 2, 2, 3, 3, 4, 1, 1, 2, 0, 2, 0, 1, 0, 4, 1, 0, 3, 1, 1, 1, 0, 0, 1, 4, 2, 4, 2, 3, 0, 3, 1, 4, 0, 2, 3, 4, 4, 0, 1, 3, 3, 3, 4, 1, 2, 1, 1, 3, 4, 3, 4, 0, 3, 3, 4, 4, 3, 0, 0, 2, 0, 4, 3, 1, 4, 1, 4, 1, 3, 0, 2, 1, 0, 0, 3, 1, 0, 4, 3, 3, 0, 3, 2, 4, 0, 2, 0, 4, 1, 4, 4, 3, 0, 0, 4, 3, 3, 0, 2, 1, 3, 2, 4, 0, 0, 2, 2, 3, 1, 4, 0, 4, 4, 1, 3, 2, 0, 1, 3, 0, 3, 3, 0, 3, 3, 4, 2, 1, 0, 1, 3, 1, 0, 0, 1, 3, 2, 2, 2, 2, 4, 0, 0, 4, 0, 1, 1, 2, 3, 3, 2, 1, 0, 3, 4, 4, 2, 0, 0, 1, 3, 2, 3, 1, 1, 1, 1, 2, 3, 3, 1, 0, 2, 2, 4, 2, 2, 1, 2, 4, 4, 3, 3, 2, 3, 3, 3, 0, 1, 0, 1, 4, 2, 1, 0, 1, 0, 4, 1, 4, 2, 1, 2, 3, 4, 1, 0, 4, 0, 2, 1, 4, 4, 1, 3, 4, 3, 1, 1, 0, 2, 2, 0, 3, 2, 1, 1, 4, 3, 0, 3, 0, 1, 4, 0, 3, 3, 4, 0, 1, 2, 1, 0, 0, 3, 1, 4, 4, 4, 4, 4, 0, 1, 0, 1, 3, 2, 3, 1, 4, 1, 2, 2, 0, 0, 1, 2, 0, 1, 3, 0, 1, 3, 2, 4, 3, 0, 3, 0, 0, 3, 2, 2, 3, 4, 2, 0, 4, 3, 1, 0, 4, 2, 3, 0, 3, 2, 3, 2, 0, 3, 1, 0, 1, 1, 4, 4, 1, 0, 3, 3, 1, 3, 0, 3, 2, 1, 3, 1, 0, 3, 2, 1, 0, 0, 4, 2, 1, 4, 1, 2, 4, 3, 2, 2, 2, 0, 1, 3, 0, 4, 2, 3, 2, 2, 3, 1, 0, 3, 1, 2, 3, 0, 1, 2, 4, 2, 0, 3, 3, 2, 1, 2, 2, 3, 1, 2, 4, 3, 0, 2, 1, 4, 2, 2, 1, 3, 4, 1, 4, 4, 2, 3, 2, 2, 2, 1, 1, 4, 2, 4, 0, 4, 1, 2, 3, 2, 3, 4, 1, 0, 2, 4, 2, 4, 4, 3, 1, 3, 3, 1, 0, 4, 4, 1, 1, 0, 2, 2, 1, 0, 1, 3, 2, 0, 3, 4, 4, 1, 2, 3, 1, 4, 4, 0, 1, 1, 3, 3, 1, 0, 0, 2, 1, 3, 3, 1, 2, 4, 4, 0, 2, 0, 1, 0, 0, 0, 4, 0, 2, 2, 2, 0, 4, 1, 3, 4, 1, 4, 4, 1, 2, 0, 2, 1, 0, 3, 0, 3, 2, 0, 0, 1, 0, 0, 0, 3, 3, 3, 0, 4, 1, 4, 2, 2, 2, 4, 2, 4, 2, 2, 4, 4, 3, 3, 3, 4, 4, 4, 3, 2, 4, 2, 4, 2, 4, 1, 2, 1, 0, 1, 0, 0, 2, 0, 4, 3, 3, 0, 2, 0, 4, 0, 1, 0, 3, 2, 2, 0, 4, 4, 2, 3, 2, 4, 1, 3, 3, 4, 2, 0, 3, 3, 1, 1, 3, 2, 4, 3, 3, 3, 1, 1, 0, 4, 0, 2, 0, 1, 3, 0, 2, 3, 0, 3, 2, 2, 3, 4, 1, 1, 1, 2, 3, 2, 2, 4, 3, 1, 3, 0, 1, 4, 4, 4, 4, 0, 4, 0, 1, 1, 0, 2, 2, 2, 4, 0, 2, 1, 3, 2, 3, 0, 4, 0, 2, 1, 1, 4, 2, 1, 0, 0, 3, 0, 4, 2, 1, 0, 1, 2, 0, 3, 0, 0, 1, 3, 2, 0, 0, 4, 2, 4, 2, 1, 3, 4, 4, 4, 3, 0, 4, 2, 4, 4, 0, 3, 4, 2, 4, 1, 0, 1, 3, 3, 2, 2, 4, 2, 2, 0, 3, 2, 2, 4, 0, 0, 1, 3, 1, 2, 0, 0, 0, 3, 1, 2, 2, 0, 4, 1, 2, 1, 1, 4, 1, 2, 2, 1, 2, 3, 3, 1, 0, 4, 4, 2, 3, 3, 4, 2, 3, 2, 2, 4, 2, 4, 4, 2, 0, 0, 4, 1, 3, 2, 2, 4, 2, 4, 2, 2, 4, 1, 4, 0, 3, 3, 0, 1, 3, 3, 3, 0, 3, 3, 0, 0, 1, 2, 2, 4, 0, 0, 4, 4, 4, 2, 0, 0, 2, 3, 1, 1, 2, 2, 0, 3, 0, 3, 0, 3, 2, 3, 4, 2, 2, 1, 0, 3, 3, 1, 3, 4, 1, 1, 1, 1, 1, 0, 3, 1, 0, 0, 1, 0, 3, 4, 1, 3, 0, 3, 2, 3, 2, 4, 1, 1, 2, 4, 2, 2, 4, 2, 4, 1, 2, 2, 0, 4, 2, 1, 0, 4, 1, 1, 4, 3, 3, 0, 3, 4, 3, 4, 3, 4, 0, 3, 4, 0, 0, 2, 2, 3, 4, 4, 4, 4, 2, 1, 3, 4, 1, 3, 3, 2, 1, 1, 0, 0, 1, 3, 3, 1, 2, 3, 1, 4, 2, 4, 3, 0, 3, 3, 0, 4, 2, 2, 0, 4, 2, 1, 0, 3, 0, 0, 4, 1, 4, 4, 0, 1, 4, 0, 4, 2, 2, 4, 1, 1, 2, 4, 1, 2, 0, 0, 0, 4, 4, 0, 3, 3, 2, 1, 2, 0, 2, 2, 3, 4, 4, 2, 0, 4, 3, 1, 4, 3, 4, 2, 0, 3, 0, 0, 4, 4, 2, 0, 4, 0, 1, 4, 1, 4, 2, 1, 0, 0, 2, 1, 2, 0, 3, 1, 2, 0, 4, 2, 4, 4, 2, 4, 2, 3, 1, 3, 3, 3, 1, 4, 3, 0, 4, 3, 3, 0, 0, 3, 0, 4, 1, 3, 1, 3, 3, 3, 4, 4, 0, 0, 0, 0, 0, 4, 4, 3, 0, 3, 0, 1, 2, 1, 1, 2, 0, 3, 1, 0, 1, 2, 2, 0, 4, 3, 1, 3, 2, 3, 4, 2, 4, 2, 1, 3, 0, 2, 3, 4, 4, 0, 0, 1, 0, 3, 2, 0, 4, 2, 0, 3, 0, 2, 0, 3, 1, 3, 2, 4, 0, 2, 3, 3, 3, 3, 2, 0, 3, 0, 2, 3, 3, 4, 4, 0, 1, 4, 3, 2, 3, 0, 3, 1, 0, 4, 0, 2, 0, 4, 1, 0, 1, 3, 4, 4, 1, 1, 1, 0, 0, 2, 3, 1, 3, 2, 4, 2, 1, 3, 3, 4, 4, 4, 3, 4, 4, 4, 0, 4, 4, 1, 0, 4, 2, 3, 4, 2, 2, 1, 2, 0, 1, 1, 4, 4, 0, 2, 2, 4, 2, 4, 4, 4, 0, 4, 4, 3, 1, 3, 1, 1, 0, 4, 1, 0, 4, 2, 0, 2, 0, 1, 2, 1, 2, 1, 1, 3, 1, 1, 1, 2, 0, 2, 3, 3, 2, 0, 0, 4, 4, 2, 4, 2, 4, 0, 0, 0, 1, 4, 3, 4, 2, 1, 2, 2, 4, 0, 3, 4, 2, 2, 1, 1, 3, 4, 3, 3, 1, 4, 1, 4, 4, 3, 1, 0, 0, 1, 2, 0, 0, 2, 2, 3, 0, 3, 3, 1, 2, 2, 2, 4, 1, 0, 2, 0, 3, 3, 4, 3, 0, 0, 0, 1, 0, 4, 4, 3, 0]\n"
     ]
    }
   ],
   "source": [
    "true_labels=list(y_test['xAttack'].values)\n",
    "print(true_labels)"
   ]
  },
  {
   "cell_type": "markdown",
   "id": "7c9bf1c3",
   "metadata": {},
   "source": [
    "### Result Analysis"
   ]
  },
  {
   "cell_type": "code",
   "execution_count": 19,
   "id": "9b531c11",
   "metadata": {},
   "outputs": [],
   "source": [
    "from sklearn.metrics import accuracy_score,classification_report,confusion_matrix"
   ]
  },
  {
   "cell_type": "code",
   "execution_count": 20,
   "id": "23a8581e",
   "metadata": {},
   "outputs": [],
   "source": [
    "class_labels=['normal','dos','r2l','probe','u2r']"
   ]
  },
  {
   "cell_type": "markdown",
   "id": "3e014217",
   "metadata": {},
   "source": [
    "$$Accuracy$$$$Score$$"
   ]
  },
  {
   "cell_type": "code",
   "execution_count": 21,
   "id": "858d80f7",
   "metadata": {},
   "outputs": [
    {
     "name": "stdout",
     "output_type": "stream",
     "text": [
      "Validation accuracy of ArtificialNeuralNetwork is 97.76%\n"
     ]
    }
   ],
   "source": [
    "Ann_accuracy=accuracy_score(y_true=true_labels,y_pred=Ann_labels)\n",
    "print(f\"Validation accuracy of ArtificialNeuralNetwork is {Ann_accuracy*100.0:.2f}%\")"
   ]
  },
  {
   "cell_type": "markdown",
   "id": "81488fef",
   "metadata": {},
   "source": [
    "$$Classification$$$$Report$$"
   ]
  },
  {
   "cell_type": "code",
   "execution_count": 22,
   "id": "0cdb3e5d",
   "metadata": {},
   "outputs": [
    {
     "name": "stdout",
     "output_type": "stream",
     "text": [
      "              precision    recall  f1-score   support\n",
      "\n",
      "      normal       0.99      0.94      0.96      1005\n",
      "         dos       0.99      1.00      0.99       940\n",
      "         r2l       0.96      0.96      0.96      1028\n",
      "       probe       0.99      0.99      0.99      1007\n",
      "         u2r       0.95      1.00      0.97      1020\n",
      "\n",
      "    accuracy                           0.98      5000\n",
      "   macro avg       0.98      0.98      0.98      5000\n",
      "weighted avg       0.98      0.98      0.98      5000\n",
      "\n"
     ]
    }
   ],
   "source": [
    "print(classification_report(y_true=true_labels,y_pred=Ann_labels,target_names=class_labels))"
   ]
  },
  {
   "cell_type": "markdown",
   "id": "5946f96c",
   "metadata": {},
   "source": [
    "$$Confusion$$$$Matrxi$$"
   ]
  },
  {
   "cell_type": "code",
   "execution_count": 23,
   "id": "ed190853",
   "metadata": {},
   "outputs": [
    {
     "data": {
      "image/png": "[encoded data removed]",
      "text/plain": [
       "<Figure size 360x360 with 1 Axes>"
      ]
     },
     "metadata": {
      "needs_background": "light"
     },
     "output_type": "display_data"
    }
   ],
   "source": [
    "from mlxtend.plotting import plot_confusion_matrix\n",
    "ax=plot_confusion_matrix(conf_mat=confusion_matrix(y_true=true_labels,y_pred=Ann_labels),\n",
    "                        figsize=(5,5),\n",
    "                        class_names=class_labels,\n",
    "                        cmap=plt.cm.Blues)\n",
    "plt.title(label='ArtificialNeuralNetwork Confusion Matrix')\n",
    "plt.xticks(rotation=90)\n",
    "plt.show()"
   ]
  },
  {
   "cell_type": "markdown",
   "id": "d780228b",
   "metadata": {},
   "source": [
    "$$Model$$$$Saving$$"
   ]
  },
  {
   "cell_type": "code",
   "execution_count": 24,
   "id": "4b4bd9c1",
   "metadata": {},
   "outputs": [],
   "source": [
    "model.save(\"models/ArtificialNeuralNetwork_model.h5\")"
   ]
  },
  {
   "cell_type": "markdown",
   "id": "70bbf82a",
   "metadata": {},
   "source": [
    "---"
   ]
  },
  {
   "cell_type": "markdown",
   "id": "c5077412",
   "metadata": {},
   "source": [
    "### Algorithm:2 RandomForestClassifier"
   ]
  },
  {
   "cell_type": "code",
   "execution_count": 40,
   "id": "155d0dac",
   "metadata": {},
   "outputs": [
    {
     "data": {
      "text/html": [
       "<style>#sk-container-id-3 {color: black;background-color: white;}#sk-container-id-3 pre{padding: 0;}#sk-container-id-3 div.sk-toggleable {background-color: white;}#sk-container-id-3 label.sk-toggleable__label {cursor: pointer;display: block;width: 100%;margin-bottom: 0;padding: 0.3em;box-sizing: border-box;text-align: center;}#sk-container-id-3 label.sk-toggleable__label-arrow:before {content: \"▸\";float: left;margin-right: 0.25em;color: #696969;}#sk-container-id-3 label.sk-toggleable__label-arrow:hover:before {color: black;}#sk-container-id-3 div.sk-estimator:hover label.sk-toggleable__label-arrow:before {color: black;}#sk-container-id-3 div.sk-toggleable__content {max-height: 0;max-width: 0;overflow: hidden;text-align: left;background-color: #f0f8ff;}#sk-container-id-3 div.sk-toggleable__content pre {margin: 0.2em;color: black;border-radius: 0.25em;background-color: #f0f8ff;}#sk-container-id-3 input.sk-toggleable__control:checked~div.sk-toggleable__content {max-height: 200px;max-width: 100%;overflow: auto;}#sk-container-id-3 input.sk-toggleable__control:checked~label.sk-toggleable__label-arrow:before {content: \"▾\";}#sk-container-id-3 div.sk-estimator input.sk-toggleable__control:checked~label.sk-toggleable__label {background-color: #d4ebff;}#sk-container-id-3 div.sk-label input.sk-toggleable__control:checked~label.sk-toggleable__label {background-color: #d4ebff;}#sk-container-id-3 input.sk-hidden--visually {border: 0;clip: rect(1px 1px 1px 1px);clip: rect(1px, 1px, 1px, 1px);height: 1px;margin: -1px;overflow: hidden;padding: 0;position: absolute;width: 1px;}#sk-container-id-3 div.sk-estimator {font-family: monospace;background-color: #f0f8ff;border: 1px dotted black;border-radius: 0.25em;box-sizing: border-box;margin-bottom: 0.5em;}#sk-container-id-3 div.sk-estimator:hover {background-color: #d4ebff;}#sk-container-id-3 div.sk-parallel-item::after {content: \"\";width: 100%;border-bottom: 1px solid gray;flex-grow: 1;}#sk-container-id-3 div.sk-label:hover label.sk-toggleable__label {background-color: #d4ebff;}#sk-container-id-3 div.sk-serial::before {content: \"\";position: absolute;border-left: 1px solid gray;box-sizing: border-box;top: 0;bottom: 0;left: 50%;z-index: 0;}#sk-container-id-3 div.sk-serial {display: flex;flex-direction: column;align-items: center;background-color: white;padding-right: 0.2em;padding-left: 0.2em;position: relative;}#sk-container-id-3 div.sk-item {position: relative;z-index: 1;}#sk-container-id-3 div.sk-parallel {display: flex;align-items: stretch;justify-content: center;background-color: white;position: relative;}#sk-container-id-3 div.sk-item::before, #sk-container-id-3 div.sk-parallel-item::before {content: \"\";position: absolute;border-left: 1px solid gray;box-sizing: border-box;top: 0;bottom: 0;left: 50%;z-index: -1;}#sk-container-id-3 div.sk-parallel-item {display: flex;flex-direction: column;z-index: 1;position: relative;background-color: white;}#sk-container-id-3 div.sk-parallel-item:first-child::after {align-self: flex-end;width: 50%;}#sk-container-id-3 div.sk-parallel-item:last-child::after {align-self: flex-start;width: 50%;}#sk-container-id-3 div.sk-parallel-item:only-child::after {width: 0;}#sk-container-id-3 div.sk-dashed-wrapped {border: 1px dashed gray;margin: 0 0.4em 0.5em 0.4em;box-sizing: border-box;padding-bottom: 0.4em;background-color: white;}#sk-container-id-3 div.sk-label label {font-family: monospace;font-weight: bold;display: inline-block;line-height: 1.2em;}#sk-container-id-3 div.sk-label-container {text-align: center;}#sk-container-id-3 div.sk-container {/* jupyter's `normalize.less` sets `[hidden] { display: none; }` but bootstrap.min.css set `[hidden] { display: none !important; }` so we also need the `!important` here to be able to override the default hidden behavior on the sphinx rendered scikit-learn.org. See: https://github.com/scikit-learn/scikit-learn/issues/21755 */display: inline-block !important;position: relative;}#sk-container-id-3 div.sk-text-repr-fallback {display: none;}</style><div id=\"sk-container-id-3\" class=\"sk-top-container\"><div class=\"sk-text-repr-fallback\"><pre>RandomForestClassifier(min_samples_leaf=50, min_samples_split=50,\n",
       "                       n_estimators=2)</pre><b>In a Jupyter environment, please rerun this cell to show the HTML representation or trust the notebook. <br />On GitHub, the HTML representation is unable to render, please try loading this page with nbviewer.org.</b></div><div class=\"sk-container\" hidden><div class=\"sk-item\"><div class=\"sk-estimator sk-toggleable\"><input class=\"sk-toggleable__control sk-hidden--visually\" id=\"sk-estimator-id-3\" type=\"checkbox\" checked><label for=\"sk-estimator-id-3\" class=\"sk-toggleable__label sk-toggleable__label-arrow\">RandomForestClassifier</label><div class=\"sk-toggleable__content\"><pre>RandomForestClassifier(min_samples_leaf=50, min_samples_split=50,\n",
       "                       n_estimators=2)</pre></div></div></div></div></div>"
      ],
      "text/plain": [
       "RandomForestClassifier(min_samples_leaf=50, min_samples_split=50,\n",
       "                       n_estimators=2)"
      ]
     },
     "execution_count": 40,
     "metadata": {},
     "output_type": "execute_result"
    }
   ],
   "source": [
    "from sklearn.ensemble import RandomForestClassifier\n",
    "RF_model=RandomForestClassifier(n_estimators=2,min_samples_split=50,min_samples_leaf=50)\n",
    "RF_model.fit(X_train.values,y_train.values.ravel())"
   ]
  },
  {
   "cell_type": "code",
   "execution_count": 41,
   "id": "22498eaa",
   "metadata": {},
   "outputs": [
    {
     "name": "stdout",
     "output_type": "stream",
     "text": [
      "[1, 0, 1, 0, 2, 4, 4, 2, 1, 3, 1, 4, 0, 4, 0, 4, 1, 2, 1, 2, 3, 2, 1, 3, 4, 1, 1, 4, 2, 0, 2, 4, 0, 2, 0, 0, 1, 1, 2, 0, 0, 2, 1, 1, 0, 2, 0, 0, 3, 0, 2, 1, 2, 2, 0, 0, 0, 2, 3, 0, 2, 0, 0, 4, 2, 3, 1, 0, 0, 4, 2, 1, 4, 1, 4, 4, 3, 3, 3, 4, 1, 3, 4, 4, 4, 0, 0, 2, 2, 0, 2, 4, 0, 3, 4, 3, 4, 0, 1, 4, 4, 4, 1, 1, 3, 3, 3, 1, 1, 0, 4, 3, 2, 2, 0, 1, 4, 2, 4, 0, 4, 1, 1, 1, 2, 3, 2, 4, 3, 1, 0, 2, 4, 0, 1, 0, 2, 2, 1, 0, 3, 1, 2, 3, 4, 1, 3, 1, 2, 1, 3, 4, 0, 0, 4, 4, 3, 3, 1, 2, 4, 2, 2, 3, 0, 1, 3, 2, 2, 3, 3, 0, 4, 2, 3, 0, 2, 1, 3, 4, 3, 2, 2, 3, 1, 4, 1, 0, 2, 2, 3, 0, 3, 4, 2, 1, 3, 2, 0, 3, 4, 2, 2, 2, 4, 1, 1, 0, 4, 0, 0, 1, 2, 2, 2, 0, 0, 4, 4, 2, 2, 4, 4, 4, 1, 3, 1, 4, 1, 3, 2, 2, 1, 4, 0, 2, 3, 2, 3, 0, 1, 1, 2, 2, 0, 4, 3, 0, 4, 3, 2, 2, 1, 0, 3, 3, 2, 2, 2, 0, 3, 2, 2, 4, 0, 0, 4, 3, 2, 4, 0, 4, 0, 3, 4, 3, 2, 2, 0, 3, 2, 1, 1, 3, 1, 4, 1, 4, 4, 1, 4, 4, 3, 4, 4, 4, 2, 1, 2, 4, 3, 4, 3, 0, 1, 2, 2, 3, 2, 3, 4, 0, 2, 3, 1, 3, 1, 2, 2, 4, 0, 2, 1, 4, 2, 3, 1, 4, 0, 3, 0, 0, 2, 0, 2, 3, 1, 2, 0, 2, 1, 2, 1, 4, 1, 3, 2, 1, 3, 2, 0, 3, 3, 2, 3, 1, 2, 1, 0, 1, 2, 4, 0, 0, 3, 3, 3, 1, 3, 0, 3, 0, 1, 4, 3, 2, 2, 4, 1, 3, 0, 3, 2, 0, 4, 1, 1, 2, 2, 3, 2, 1, 3, 3, 1, 0, 4, 1, 0, 0, 4, 2, 2, 3, 3, 3, 2, 0, 2, 3, 0, 3, 4, 1, 2, 2, 2, 2, 1, 4, 3, 4, 2, 0, 2, 3, 4, 3, 3, 1, 3, 3, 0, 2, 2, 2, 3, 4, 1, 3, 4, 4, 2, 2, 0, 0, 2, 2, 1, 2, 4, 2, 3, 2, 0, 2, 1, 4, 2, 2, 4, 0, 2, 0, 4, 3, 0, 1, 1, 1, 0, 2, 0, 3, 0, 4, 1, 3, 3, 1, 4, 4, 1, 1, 1, 2, 1, 1, 0, 2, 3, 0, 1, 3, 1, 0, 4, 2, 4, 2, 1, 2, 3, 1, 1, 2, 3, 3, 1, 1, 3, 1, 0, 2, 2, 4, 2, 0, 0, 1, 4, 4, 3, 3, 3, 2, 1, 4, 1, 0, 3, 0, 0, 2, 3, 1, 4, 4, 4, 1, 3, 0, 4, 0, 2, 4, 4, 3, 3, 4, 0, 1, 1, 0, 3, 2, 3, 2, 0, 4, 3, 4, 2, 4, 2, 1, 4, 3, 0, 4, 1, 1, 4, 1, 4, 1, 4, 0, 0, 3, 2, 3, 1, 2, 3, 0, 2, 4, 4, 3, 4, 2, 2, 0, 4, 0, 0, 4, 4, 4, 0, 0, 0, 0, 2, 1, 3, 4, 0, 3, 2, 2, 3, 2, 3, 3, 2, 3, 0, 1, 3, 0, 4, 0, 0, 2, 4, 3, 2, 1, 1, 2, 1, 1, 4, 0, 1, 2, 2, 0, 1, 3, 4, 4, 2, 4, 2, 3, 2, 1, 3, 3, 0, 1, 0, 0, 3, 1, 2, 2, 3, 3, 3, 4, 4, 4, 2, 0, 2, 2, 2, 4, 2, 4, 3, 2, 4, 2, 1, 1, 4, 4, 0, 3, 4, 3, 4, 0, 2, 1, 4, 4, 1, 0, 1, 1, 2, 1, 0, 1, 2, 0, 4, 3, 3, 2, 1, 1, 0, 0, 2, 4, 1, 0, 0, 4, 3, 4, 1, 3, 1, 1, 4, 1, 3, 3, 3, 4, 3, 3, 3, 3, 0, 4, 3, 3, 3, 0, 3, 1, 3, 3, 1, 3, 0, 0, 1, 3, 4, 3, 1, 0, 2, 4, 4, 4, 1, 0, 0, 1, 1, 3, 3, 0, 1, 0, 2, 3, 4, 1, 0, 1, 4, 0, 2, 0, 0, 1, 0, 1, 2, 2, 1, 1, 2, 1, 3, 1, 2, 0, 1, 3, 0, 4, 3, 3, 1, 3, 1, 4, 1, 3, 4, 4, 3, 0, 3, 4, 2, 3, 2, 4, 4, 0, 3, 2, 1, 1, 2, 1, 3, 3, 4, 2, 2, 3, 1, 0, 4, 3, 3, 3, 0, 4, 4, 2, 3, 2, 2, 4, 1, 1, 3, 4, 4, 3, 4, 4, 4, 2, 1, 2, 3, 1, 1, 2, 3, 2, 0, 4, 3, 2, 0, 4, 3, 1, 2, 2, 4, 3, 0, 3, 0, 1, 4, 0, 4, 2, 2, 4, 2, 4, 2, 1, 2, 1, 3, 3, 4, 0, 4, 1, 0, 4, 4, 3, 4, 4, 2, 0, 0, 2, 3, 4, 3, 2, 4, 1, 2, 1, 4, 3, 1, 2, 2, 4, 4, 2, 3, 2, 3, 4, 4, 2, 1, 4, 4, 4, 3, 4, 1, 2, 4, 1, 0, 0, 4, 2, 2, 3, 2, 3, 4, 0, 1, 4, 2, 3, 1, 3, 4, 3, 3, 2, 2, 3, 0, 1, 1, 3, 1, 2, 2, 3, 0, 4, 4, 0, 2, 2, 2, 4, 3, 0, 2, 4, 1, 1, 0, 4, 4, 3, 4, 1, 2, 0, 0, 4, 4, 3, 4, 4, 2, 0, 4, 0, 4, 4, 3, 3, 0, 1, 2, 4, 0, 1, 3, 3, 1, 2, 0, 2, 2, 0, 1, 2, 0, 2, 0, 4, 4, 1, 2, 0, 4, 0, 2, 1, 4, 2, 2, 4, 4, 3, 0, 4, 1, 3, 4, 0, 3, 4, 4, 3, 2, 4, 2, 1, 2, 4, 2, 3, 2, 0, 3, 3, 4, 1, 4, 1, 2, 1, 4, 3, 3, 1, 4, 2, 0, 4, 1, 4, 1, 3, 3, 1, 4, 2, 2, 0, 2, 1, 1, 2, 4, 3, 4, 3, 4, 0, 2, 1, 2, 3, 1, 1, 4, 4, 1, 1, 4, 2, 3, 2, 4, 0, 4, 3, 3, 2, 3, 4, 2, 2, 1, 3, 1, 4, 4, 4, 0, 1, 3, 1, 3, 0, 2, 1, 2, 1, 1, 3, 4, 0, 1, 1, 0, 3, 4, 3, 0, 0, 2, 3, 3, 2, 1, 1, 4, 4, 0, 2, 1, 1, 2, 2, 2, 1, 2, 0, 4, 1, 1, 4, 0, 4, 3, 2, 2, 1, 4, 3, 3, 3, 2, 1, 2, 2, 4, 4, 1, 1, 2, 2, 4, 0, 0, 4, 4, 2, 4, 4, 4, 3, 2, 1, 0, 3, 3, 1, 1, 3, 0, 0, 2, 4, 1, 3, 0, 0, 2, 3, 2, 3, 4, 1, 3, 2, 0, 1, 0, 3, 4, 4, 0, 4, 4, 0, 3, 0, 4, 4, 0, 3, 3, 3, 2, 0, 2, 4, 4, 4, 2, 3, 0, 2, 0, 1, 0, 4, 3, 3, 4, 0, 2, 3, 3, 3, 0, 4, 4, 0, 1, 0, 4, 3, 4, 2, 1, 2, 1, 2, 2, 0, 0, 4, 2, 1, 1, 3, 0, 3, 0, 1, 4, 2, 0, 4, 4, 4, 2, 4, 3, 1, 3, 2, 1, 0, 0, 0, 1, 4, 3, 1, 0, 4, 2, 3, 2, 2, 0, 0, 3, 3, 2, 2, 2, 4, 2, 1, 4, 1, 4, 1, 2, 4, 0, 4, 2, 0, 4, 2, 3, 4, 0, 0, 3, 4, 4, 1, 3, 2, 0, 4, 1, 3, 3, 0, 2, 2, 4, 3, 3, 0, 3, 3, 3, 2, 3, 1, 3, 1, 1, 1, 2, 0, 4, 2, 2, 2, 0, 2, 0, 4, 3, 0, 2, 3, 0, 4, 1, 0, 2, 0, 1, 4, 4, 1, 0, 1, 2, 1, 2, 2, 2, 3, 1, 4, 3, 4, 3, 3, 3, 4, 4, 1, 2, 0, 4, 0, 1, 2, 3, 4, 1, 4, 4, 3, 4, 3, 1, 0, 0, 0, 2, 3, 4, 3, 3, 0, 2, 4, 4, 3, 3, 0, 4, 0, 0, 4, 0, 3, 4, 1, 1, 2, 0, 0, 1, 0, 2, 3, 2, 2, 0, 0, 2, 3, 3, 3, 3, 4, 3, 3, 1, 1, 4, 4, 2, 4, 2, 1, 4, 4, 4, 4, 2, 4, 1, 1, 3, 1, 3, 3, 1, 1, 1, 0, 4, 1, 0, 3, 4, 1, 2, 3, 2, 3, 3, 4, 4, 1, 1, 0, 3, 1, 1, 4, 3, 3, 2, 1, 3, 2, 0, 1, 0, 3, 2, 0, 1, 2, 2, 3, 0, 2, 4, 2, 3, 4, 3, 0, 4, 0, 2, 1, 0, 4, 3, 4, 1, 4, 3, 4, 4, 4, 3, 0, 4, 1, 1, 4, 4, 2, 1, 4, 4, 4, 4, 0, 1, 4, 2, 4, 0, 0, 1, 1, 3, 0, 1, 1, 0, 0, 0, 1, 1, 1, 0, 2, 4, 1, 1, 4, 3, 0, 2, 2, 3, 4, 4, 1, 4, 2, 1, 1, 4, 2, 3, 0, 1, 0, 0, 3, 1, 2, 0, 4, 3, 1, 3, 4, 2, 2, 4, 3, 4, 4, 2, 0, 2, 2, 3, 4, 3, 1, 3, 0, 1, 0, 2, 3, 3, 2, 4, 3, 4, 0, 4, 4, 4, 1, 2, 4, 0, 2, 4, 3, 1, 4, 2, 4, 2, 3, 2, 2, 4, 2, 3, 2, 3, 1, 2, 1, 0, 4, 4, 4, 3, 1, 4, 3, 0, 3, 2, 3, 1, 0, 0, 0, 2, 3, 3, 0, 4, 4, 4, 3, 3, 2, 4, 1, 1, 4, 2, 0, 3, 1, 2, 3, 4, 4, 4, 1, 3, 3, 0, 0, 3, 3, 2, 3, 3, 1, 0, 1, 1, 3, 0, 2, 2, 3, 2, 4, 4, 3, 1, 1, 0, 4, 0, 4, 3, 3, 4, 0, 2, 1, 1, 0, 3, 4, 4, 2, 0, 1, 4, 2, 0, 1, 1, 2, 3, 1, 3, 0, 2, 0, 1, 0, 2, 3, 4, 1, 2, 1, 3, 3, 4, 4, 0, 0, 2, 2, 2, 3, 1, 1, 2, 4, 0, 3, 2, 4, 3, 1, 4, 2, 3, 4, 2, 3, 3, 1, 2, 2, 3, 0, 4, 1, 4, 4, 4, 3, 4, 4, 1, 3, 3, 3, 1, 4, 4, 4, 0, 3, 3, 0, 1, 3, 3, 4, 2, 3, 2, 2, 4, 4, 0, 3, 2, 4, 1, 3, 1, 0, 3, 1, 2, 2, 3, 2, 1, 3, 1, 3, 4, 0, 1, 4, 3, 0, 1, 1, 3, 4, 3, 3, 0, 3, 0, 0, 1, 4, 1, 2, 4, 2, 0, 0, 1, 2, 0, 3, 0, 1, 3, 4, 3, 0, 0, 0, 1, 0, 4, 1, 2, 1, 3, 3, 0, 0, 0, 1, 2, 3, 1, 1, 2, 0, 4, 0, 1, 0, 0, 2, 4, 3, 3, 0, 0, 3, 1, 1, 3, 3, 2, 1, 4, 3, 3, 3, 2, 2, 4, 4, 2, 4, 1, 0, 3, 4, 2, 2, 2, 1, 4, 0, 0, 4, 1, 0, 4, 4, 1, 3, 0, 2, 3, 4, 1, 3, 4, 2, 4, 2, 4, 4, 4, 1, 3, 3, 2, 4, 2, 4, 1, 3, 1, 0, 1, 1, 4, 0, 2, 3, 1, 4, 1, 1, 1, 0, 1, 3, 4, 0, 2, 2, 1, 2, 2, 1, 1, 2, 1, 2, 0, 3, 2, 2, 1, 2, 4, 3, 2, 2, 3, 3, 0, 1, 4, 3, 2, 1, 2, 1, 4, 4, 0, 2, 4, 3, 2, 4, 0, 4, 1, 1, 3, 4, 4, 0, 4, 4, 1, 3, 1, 1, 0, 4, 4, 4, 1, 4, 1, 3, 2, 3, 4, 2, 3, 0, 0, 3, 2, 1, 2, 0, 0, 1, 3, 4, 4, 2, 2, 3, 3, 2, 0, 0, 4, 1, 2, 3, 4, 0, 4, 4, 0, 4, 2, 0, 3, 2, 1, 0, 4, 4, 3, 4, 1, 2, 2, 4, 2, 3, 2, 4, 2, 4, 3, 3, 4, 3, 4, 0, 3, 3, 2, 0, 1, 1, 3, 3, 0, 0, 1, 2, 3, 3, 1, 0, 1, 0, 2, 0, 3, 3, 3, 1, 2, 4, 4, 4, 3, 3, 3, 1, 1, 1, 4, 4, 4, 3, 0, 3, 2, 4, 1, 3, 4, 2, 4, 4, 1, 4, 1, 0, 0, 4, 1, 3, 0, 3, 2, 4, 2, 4, 3, 2, 2, 1, 3, 0, 3, 0, 1, 1, 4, 1, 2, 3, 0, 3, 1, 2, 3, 4, 3, 4, 0, 4, 3, 1, 1, 0, 4, 3, 0, 2, 3, 0, 3, 2, 4, 0, 4, 4, 3, 4, 2, 0, 0, 0, 0, 3, 0, 0, 2, 2, 0, 0, 0, 1, 0, 2, 2, 3, 2, 0, 0, 1, 0, 2, 4, 4, 4, 0, 3, 4, 1, 3, 0, 2, 3, 2, 1, 0, 3, 3, 0, 3, 2, 0, 3, 4, 1, 2, 2, 1, 0, 4, 0, 3, 3, 2, 4, 3, 3, 0, 2, 4, 1, 0, 1, 0, 4, 4, 3, 1, 2, 3, 3, 1, 2, 3, 4, 0, 0, 1, 4, 2, 4, 1, 1, 2, 2, 0, 2, 0, 2, 1, 4, 4, 2, 3, 4, 4, 3, 2, 1, 0, 4, 1, 3, 3, 3, 0, 4, 4, 4, 1, 3, 4, 4, 1, 2, 3, 2, 3, 4, 3, 3, 1, 0, 4, 0, 2, 2, 4, 2, 0, 1, 0, 3, 1, 2, 0, 2, 4, 2, 3, 3, 3, 3, 3, 1, 0, 0, 3, 3, 4, 2, 4, 2, 0, 4, 4, 3, 0, 2, 2, 2, 1, 2, 0, 3, 4, 1, 4, 0, 0, 0, 2, 4, 3, 2, 3, 3, 1, 0, 0, 1, 3, 3, 3, 4, 3, 3, 1, 1, 4, 2, 2, 4, 0, 1, 0, 3, 3, 0, 0, 4, 2, 1, 1, 4, 1, 3, 1, 2, 2, 0, 1, 3, 0, 3, 0, 0, 0, 2, 2, 2, 1, 1, 0, 1, 4, 4, 3, 0, 1, 1, 1, 2, 2, 2, 4, 2, 1, 0, 2, 2, 0, 4, 0, 3, 3, 0, 3, 1, 4, 4, 4, 2, 0, 3, 2, 1, 2, 0, 3, 2, 2, 1, 4, 3, 0, 4, 2, 1, 2, 1, 0, 1, 3, 2, 2, 2, 2, 1, 2, 3, 4, 0, 4, 0, 2, 0, 0, 4, 4, 4, 0, 3, 0, 4, 1, 0, 2, 2, 4, 2, 1, 4, 0, 4, 0, 0, 2, 2, 0, 3, 1, 1, 1, 1, 0, 2, 3, 2, 0, 2, 1, 2, 3, 2, 0, 4, 4, 3, 3, 0, 0, 1, 3, 3, 0, 3, 4, 3, 2, 2, 2, 2, 2, 4, 4, 3, 1, 0, 2, 2, 0, 3, 3, 1, 3, 3, 0, 4, 3, 4, 1, 2, 2, 4, 4, 0, 4, 1, 3, 0, 2, 1, 0, 2, 4, 4, 0, 3, 0, 2, 3, 4, 1, 2, 3, 2, 3, 4, 1, 1, 2, 4, 2, 3, 2, 4, 2, 0, 2, 1, 2, 4, 4, 1, 3, 3, 3, 0, 0, 3, 1, 1, 3, 2, 4, 3, 3, 2, 4, 4, 2, 2, 1, 3, 0, 0, 0, 4, 0, 4, 3, 0, 2, 2, 4, 4, 0, 1, 2, 1, 1, 1, 4, 1, 4, 4, 1, 3, 4, 2, 2, 2, 0, 1, 3, 2, 0, 4, 0, 0, 4, 4, 3, 4, 0, 3, 4, 3, 3, 0, 3, 2, 3, 3, 4, 3, 2, 4, 2, 0, 0, 1, 3, 4, 1, 3, 0, 2, 4, 2, 0, 3, 0, 2, 3, 1, 0, 4, 3, 0, 1, 2, 4, 1, 4, 4, 1, 0, 4, 4, 0, 4, 1, 4, 0, 0, 4, 2, 1, 2, 1, 3, 2, 3, 3, 3, 2, 0, 3, 1, 2, 0, 4, 0, 2, 4, 1, 2, 3, 0, 4, 0, 1, 2, 0, 3, 1, 2, 0, 4, 3, 4, 3, 3, 0, 3, 4, 2, 1, 1, 1, 0, 2, 4, 4, 4, 2, 4, 1, 2, 1, 4, 3, 4, 4, 3, 4, 4, 2, 1, 3, 4, 0, 2, 2, 4, 0, 0, 2, 2, 2, 4, 0, 4, 2, 4, 3, 0, 2, 4, 0, 1, 0, 4, 4, 3, 1, 3, 2, 4, 1, 1, 3, 0, 4, 1, 2, 0, 3, 0, 3, 1, 2, 4, 4, 1, 0, 1, 0, 3, 2, 0, 1, 3, 3, 2, 4, 1, 2, 4, 0, 1, 4, 2, 3, 4, 4, 1, 4, 4, 4, 3, 2, 0, 1, 2, 2, 4, 1, 0, 2, 1, 3, 0, 0, 0, 4, 1, 2, 1, 0, 0, 2, 0, 3, 1, 2, 2, 0, 1, 4, 3, 0, 4, 3, 2, 0, 4, 1, 4, 1, 3, 2, 4, 2, 4, 4, 4, 3, 1, 0, 4, 0, 4, 1, 3, 1, 0, 1, 3, 4, 1, 1, 2, 2, 0, 3, 0, 2, 4, 4, 4, 4, 2, 2, 1, 3, 3, 2, 3, 3, 3, 4, 0, 3, 4, 0, 3, 1, 0, 1, 4, 0, 0, 3, 1, 2, 2, 4, 3, 0, 2, 3, 3, 0, 2, 4, 1, 0, 2, 3, 4, 1, 4, 3, 3, 0, 1, 2, 2, 3, 1, 0, 1, 0, 2, 1, 3, 4, 3, 3, 3, 2, 4, 0, 2, 4, 1, 4, 4, 2, 1, 3, 3, 3, 0, 4, 1, 0, 0, 0, 4, 0, 3, 4, 4, 0, 2, 4, 2, 2, 4, 4, 3, 4, 0, 4, 3, 4, 1, 0, 2, 0, 4, 2, 4, 1, 2, 2, 4, 4, 3, 0, 2, 2, 3, 4, 4, 2, 2, 3, 1, 1, 2, 0, 3, 4, 1, 2, 4, 0, 4, 4, 3, 1, 1, 3, 2, 2, 2, 2, 0, 0, 4, 2, 4, 1, 3, 4, 2, 1, 3, 3, 0, 3, 2, 1, 4, 2, 1, 1, 1, 3, 4, 2, 2, 1, 3, 0, 3, 4, 1, 4, 2, 0, 1, 1, 2, 3, 4, 2, 1, 2, 4, 1, 1, 2, 2, 1, 3, 1, 0, 1, 2, 2, 2, 4, 3, 0, 3, 2, 2, 3, 1, 4, 4, 4, 2, 1, 4, 4, 2, 2, 1, 1, 1, 2, 2, 3, 2, 2, 0, 4, 0, 1, 1, 1, 3, 0, 0, 3, 1, 1, 4, 2, 2, 0, 4, 4, 0, 1, 2, 3, 2, 0, 0, 2, 1, 1, 0, 4, 1, 2, 3, 2, 3, 3, 4, 1, 1, 0, 2, 1, 0, 1, 3, 0, 3, 3, 0, 0, 2, 4, 2, 0, 1, 1, 3, 1, 0, 0, 3, 2, 2, 1, 4, 1, 3, 1, 2, 2, 3, 2, 2, 4, 2, 3, 0, 0, 0, 3, 3, 1, 4, 3, 3, 1, 3, 4, 2, 4, 3, 1, 3, 4, 0, 1, 4, 3, 2, 0, 0, 1, 4, 3, 2, 4, 4, 3, 2, 4, 3, 2, 2, 1, 1, 4, 1, 3, 0, 2, 1, 0, 2, 4, 1, 2, 0, 1, 1, 3, 4, 2, 4, 3, 0, 0, 4, 2, 0, 2, 3, 3, 2, 0, 0, 3, 3, 0, 2, 0, 2, 0, 2, 4, 4, 2, 2, 0, 4, 3, 0, 1, 2, 2, 1, 2, 3, 0, 1, 1, 2, 3, 2, 1, 0, 0, 1, 4, 3, 2, 4, 3, 4, 0, 1, 1, 1, 3, 2, 1, 0, 2, 4, 2, 4, 2, 0, 0, 4, 1, 3, 1, 0, 0, 2, 0, 2, 2, 0, 3, 3, 4, 2, 2, 2, 2, 2, 3, 3, 2, 2, 4, 1, 2, 1, 2, 1, 2, 2, 4, 3, 3, 1, 1, 0, 1, 2, 1, 1, 1, 4, 4, 3, 3, 4, 3, 3, 4, 1, 2, 0, 3, 1, 4, 3, 2, 2, 3, 4, 4, 4, 3, 4, 0, 1, 0, 4, 2, 0, 3, 3, 0, 1, 3, 4, 0, 3, 4, 1, 0, 1, 0, 3, 0, 0, 0, 2, 0, 1, 1, 0, 0, 3, 1, 1, 0, 0, 0, 1, 3, 3, 0, 0, 3, 3, 4, 0, 0, 3, 2, 3, 1, 4, 2, 2, 1, 0, 0, 2, 1, 4, 1, 3, 2, 1, 2, 2, 2, 3, 1, 2, 3, 2, 2, 1, 1, 4, 4, 4, 0, 4, 1, 3, 1, 0, 3, 1, 4, 4, 4, 0, 2, 2, 3, 3, 3, 1, 4, 3, 0, 3, 3, 4, 3, 0, 0, 4, 0, 4, 4, 4, 4, 0, 1, 2, 3, 4, 2, 3, 3, 3, 2, 0, 3, 2, 3, 2, 3, 4, 2, 3, 4, 1, 4, 2, 3, 1, 2, 2, 4, 2, 0, 0, 4, 2, 0, 4, 4, 4, 4, 4, 0, 2, 1, 2, 3, 4, 1, 2, 1, 0, 3, 1, 2, 0, 4, 1, 4, 1, 3, 0, 0, 1, 1, 1, 2, 0, 3, 0, 2, 2, 4, 3, 4, 1, 3, 3, 0, 1, 1, 4, 2, 2, 1, 0, 2, 3, 0, 4, 0, 0, 0, 3, 4, 3, 1, 3, 4, 1, 3, 3, 1, 2, 1, 4, 0, 2, 3, 0, 3, 0, 3, 0, 2, 1, 2, 1, 3, 2, 4, 3, 2, 1, 2, 2, 0, 4, 1, 3, 1, 3, 3, 3, 4, 3, 3, 0, 3, 2, 0, 3, 0, 4, 0, 3, 3, 1, 1, 3, 2, 2, 1, 2, 3, 4, 3, 3, 4, 4, 3, 2, 2, 0, 2, 4, 2, 0, 3, 3, 2, 3, 3, 4, 3, 0, 3, 3, 3, 0, 4, 2, 3, 3, 1, 4, 0, 0, 0, 2, 0, 4, 4, 3, 4, 4, 1, 1, 2, 0, 2, 1, 4, 0, 3, 3, 1, 3, 1, 1, 1, 1, 0, 2, 0, 2, 1, 2, 3, 0, 3, 2, 4, 0, 0, 3, 1, 2, 1, 4, 2, 4, 3, 1, 0, 2, 2, 2, 0, 2, 4, 2, 2, 3, 0, 4, 1, 1, 2, 0, 2, 0, 1, 0, 4, 1, 0, 3, 1, 1, 1, 0, 0, 1, 4, 2, 4, 2, 3, 0, 0, 1, 4, 0, 2, 3, 4, 4, 0, 1, 3, 3, 3, 4, 1, 2, 1, 1, 3, 4, 3, 4, 0, 3, 3, 4, 4, 3, 0, 0, 2, 0, 4, 3, 1, 4, 1, 4, 1, 3, 0, 2, 1, 0, 2, 3, 1, 0, 4, 3, 3, 0, 3, 2, 4, 0, 2, 0, 4, 0, 4, 4, 3, 0, 0, 4, 3, 3, 0, 2, 1, 3, 2, 4, 0, 0, 2, 2, 3, 1, 4, 2, 4, 4, 1, 3, 2, 4, 1, 3, 0, 3, 3, 0, 3, 3, 4, 2, 1, 0, 1, 3, 1, 0, 0, 1, 3, 2, 2, 2, 2, 4, 0, 3, 4, 0, 1, 1, 2, 3, 3, 2, 1, 0, 3, 4, 4, 2, 0, 3, 1, 3, 2, 3, 1, 1, 1, 1, 2, 3, 3, 1, 0, 2, 2, 4, 2, 2, 1, 2, 4, 4, 3, 3, 2, 3, 3, 3, 3, 1, 0, 0, 4, 2, 1, 0, 1, 0, 4, 1, 4, 2, 1, 2, 3, 4, 1, 0, 4, 0, 2, 1, 4, 4, 1, 3, 4, 3, 1, 1, 0, 2, 2, 0, 3, 2, 1, 1, 4, 3, 0, 3, 0, 1, 4, 3, 3, 3, 4, 0, 1, 2, 1, 0, 0, 3, 1, 4, 4, 4, 4, 4, 0, 1, 0, 1, 3, 2, 3, 1, 4, 1, 2, 2, 0, 0, 1, 2, 0, 1, 3, 0, 1, 3, 2, 4, 3, 0, 3, 0, 3, 3, 4, 2, 3, 4, 2, 0, 4, 3, 1, 0, 4, 2, 3, 0, 3, 2, 3, 2, 1, 3, 1, 0, 1, 1, 4, 4, 1, 0, 3, 3, 1, 3, 0, 3, 2, 1, 3, 1, 2, 3, 2, 1, 0, 0, 4, 2, 1, 4, 1, 2, 4, 3, 2, 2, 2, 3, 1, 3, 0, 4, 2, 3, 2, 2, 3, 1, 0, 3, 1, 2, 3, 0, 1, 2, 4, 2, 0, 3, 3, 2, 1, 2, 2, 3, 1, 2, 4, 3, 3, 2, 1, 4, 2, 0, 1, 0, 4, 1, 4, 4, 2, 3, 2, 2, 2, 1, 1, 4, 2, 4, 0, 4, 1, 2, 3, 2, 3, 4, 1, 0, 2, 4, 2, 4, 4, 3, 1, 3, 3, 1, 0, 4, 4, 1, 1, 0, 2, 2, 1, 0, 1, 3, 2, 0, 3, 4, 4, 1, 2, 3, 1, 4, 4, 0, 1, 1, 3, 3, 1, 2, 0, 2, 1, 3, 3, 1, 2, 4, 4, 0, 2, 0, 1, 0, 0, 0, 4, 0, 2, 2, 2, 0, 4, 1, 3, 4, 1, 4, 4, 1, 2, 0, 2, 1, 0, 3, 0, 3, 2, 0, 3, 0, 0, 0, 0, 3, 3, 3, 0, 4, 1, 4, 2, 2, 2, 4, 2, 4, 2, 2, 4, 4, 3, 3, 3, 4, 4, 4, 3, 2, 4, 2, 4, 2, 4, 1, 2, 1, 0, 1, 2, 0, 2, 0, 4, 3, 3, 0, 2, 3, 4, 0, 1, 0, 3, 2, 2, 0, 4, 4, 2, 3, 0, 4, 1, 3, 3, 4, 2, 0, 3, 3, 1, 1, 3, 2, 4, 3, 3, 4, 1, 1, 0, 4, 0, 2, 0, 1, 3, 0, 2, 3, 0, 3, 2, 2, 3, 4, 1, 1, 1, 2, 3, 2, 2, 4, 3, 1, 3, 0, 1, 4, 4, 4, 4, 0, 4, 0, 1, 1, 0, 2, 2, 2, 4, 0, 2, 1, 3, 2, 3, 0, 4, 0, 2, 1, 1, 4, 2, 1, 0, 0, 3, 0, 4, 2, 1, 0, 1, 2, 0, 3, 0, 0, 1, 3, 2, 0, 0, 4, 2, 4, 2, 1, 3, 4, 4, 4, 3, 0, 4, 2, 4, 4, 0, 3, 4, 2, 4, 1, 0, 1, 3, 3, 2, 2, 4, 2, 2, 0, 3, 2, 2, 4, 2, 0, 1, 3, 1, 2, 0, 3, 0, 3, 1, 2, 2, 0, 4, 1, 2, 1, 1, 4, 1, 2, 2, 1, 2, 3, 3, 1, 0, 4, 4, 2, 3, 3, 4, 2, 3, 2, 2, 4, 2, 4, 4, 2, 0, 0, 4, 1, 3, 2, 2, 4, 2, 4, 2, 2, 4, 1, 4, 0, 3, 3, 3, 1, 3, 3, 3, 0, 3, 3, 0, 0, 1, 2, 2, 4, 0, 0, 4, 4, 4, 2, 0, 0, 2, 3, 1, 1, 2, 2, 2, 3, 0, 3, 0, 3, 2, 3, 4, 2, 2, 1, 0, 3, 3, 1, 3, 4, 1, 1, 1, 1, 1, 0, 3, 1, 0, 0, 1, 0, 3, 4, 1, 3, 0, 3, 2, 3, 2, 4, 1, 1, 2, 4, 2, 2, 4, 2, 4, 1, 2, 2, 0, 4, 2, 1, 0, 4, 1, 3, 4, 3, 3, 0, 3, 4, 3, 4, 3, 4, 0, 3, 4, 0, 0, 4, 2, 3, 4, 4, 4, 4, 2, 1, 3, 4, 1, 3, 3, 2, 1, 1, 0, 0, 1, 3, 3, 1, 2, 3, 1, 4, 2, 4, 3, 0, 3, 3, 2, 4, 2, 2, 0, 4, 2, 1, 0, 3, 0, 0, 4, 1, 4, 4, 0, 1, 4, 0, 4, 2, 2, 4, 1, 1, 2, 4, 1, 2, 0, 0, 0, 4, 4, 0, 3, 3, 2, 1, 2, 0, 2, 2, 3, 4, 4, 2, 0, 4, 3, 1, 4, 3, 4, 2, 0, 3, 0, 2, 4, 4, 2, 0, 4, 0, 1, 4, 1, 4, 2, 1, 4, 0, 2, 3, 2, 0, 3, 1, 2, 0, 4, 2, 4, 4, 2, 4, 2, 3, 1, 3, 3, 3, 1, 4, 3, 0, 4, 3, 3, 0, 0, 3, 0, 4, 1, 3, 1, 3, 3, 3, 4, 4, 0, 0, 0, 0, 0, 4, 4, 3, 3, 3, 0, 1, 2, 1, 0, 2, 0, 3, 1, 0, 1, 2, 2, 3, 4, 3, 1, 3, 2, 3, 4, 2, 4, 2, 1, 4, 0, 2, 3, 4, 4, 0, 0, 1, 0, 0, 2, 0, 4, 2, 0, 3, 0, 2, 3, 3, 1, 3, 2, 4, 0, 2, 3, 3, 3, 3, 2, 0, 3, 0, 2, 3, 3, 4, 4, 2, 1, 4, 3, 2, 3, 0, 3, 1, 0, 4, 0, 2, 0, 4, 1, 0, 1, 3, 4, 4, 1, 1, 1, 0, 4, 2, 3, 1, 4, 2, 4, 2, 1, 3, 3, 4, 4, 4, 3, 4, 4, 4, 0, 4, 4, 1, 4, 4, 2, 1, 4, 2, 2, 1, 2, 0, 1, 1, 4, 4, 0, 2, 2, 4, 2, 4, 4, 4, 0, 4, 4, 3, 1, 3, 1, 1, 0, 4, 1, 0, 4, 2, 0, 2, 0, 1, 2, 1, 2, 1, 1, 3, 1, 1, 1, 2, 0, 2, 3, 3, 2, 0, 0, 4, 4, 2, 4, 2, 4, 0, 0, 0, 1, 4, 3, 4, 2, 1, 2, 2, 4, 0, 3, 4, 2, 2, 1, 1, 3, 4, 3, 3, 1, 4, 1, 4, 4, 3, 1, 0, 3, 1, 2, 0, 0, 2, 2, 3, 0, 3, 3, 1, 2, 2, 0, 4, 1, 4, 2, 0, 3, 3, 4, 3, 0, 2, 0, 1, 0, 4, 4, 4, 0]\n"
     ]
    }
   ],
   "source": [
    "RF_pred=RF_model.predict(X_test)\n",
    "RF_pred=RF_pred.tolist()\n",
    "print(RF_pred)"
   ]
  },
  {
   "cell_type": "code",
   "execution_count": 42,
   "id": "41656b81",
   "metadata": {},
   "outputs": [
    {
     "name": "stdout",
     "output_type": "stream",
     "text": [
      "[1, 0, 1, 0, 2, 4, 4, 2, 1, 3, 1, 4, 0, 4, 0, 4, 1, 2, 1, 2, 3, 2, 1, 3, 4, 1, 1, 4, 2, 0, 2, 4, 0, 2, 0, 0, 1, 1, 3, 0, 0, 2, 1, 1, 0, 2, 0, 0, 3, 0, 2, 1, 2, 2, 0, 2, 0, 2, 3, 0, 2, 0, 0, 4, 2, 3, 1, 0, 0, 4, 2, 1, 4, 1, 4, 4, 3, 3, 3, 0, 1, 3, 4, 4, 4, 0, 0, 2, 2, 0, 2, 4, 0, 3, 4, 3, 4, 0, 1, 4, 4, 4, 1, 1, 3, 3, 3, 1, 1, 0, 4, 3, 2, 2, 0, 1, 4, 2, 4, 0, 4, 1, 1, 1, 2, 3, 2, 4, 3, 1, 0, 2, 4, 0, 1, 0, 2, 2, 1, 0, 3, 1, 2, 3, 4, 1, 3, 1, 2, 1, 3, 4, 0, 2, 4, 4, 3, 3, 1, 2, 4, 2, 2, 3, 0, 1, 3, 2, 2, 3, 3, 0, 0, 2, 3, 0, 2, 1, 3, 4, 3, 2, 2, 3, 1, 4, 1, 0, 2, 2, 3, 0, 3, 4, 2, 1, 3, 2, 0, 3, 4, 2, 2, 2, 4, 1, 1, 0, 4, 0, 3, 1, 2, 2, 2, 0, 0, 4, 4, 2, 2, 4, 4, 4, 1, 3, 1, 4, 1, 3, 2, 2, 1, 4, 0, 2, 3, 2, 3, 0, 1, 1, 2, 2, 1, 4, 3, 0, 4, 3, 2, 2, 1, 0, 3, 3, 2, 2, 0, 0, 3, 2, 2, 4, 0, 0, 4, 3, 2, 4, 0, 4, 2, 3, 4, 3, 2, 2, 0, 3, 2, 1, 1, 3, 1, 4, 1, 4, 4, 1, 4, 4, 3, 4, 3, 4, 2, 1, 2, 4, 3, 4, 3, 0, 1, 2, 2, 3, 2, 3, 4, 0, 2, 3, 1, 3, 1, 2, 2, 4, 2, 2, 1, 4, 0, 3, 1, 4, 0, 3, 3, 0, 2, 0, 2, 3, 1, 2, 0, 2, 1, 2, 1, 0, 1, 3, 2, 1, 3, 2, 0, 3, 3, 2, 3, 1, 2, 1, 0, 1, 2, 4, 1, 0, 3, 3, 3, 1, 3, 0, 3, 0, 1, 4, 3, 2, 2, 4, 1, 3, 0, 3, 2, 0, 4, 1, 1, 2, 2, 3, 2, 1, 0, 3, 1, 0, 4, 1, 0, 0, 4, 2, 2, 3, 3, 3, 2, 0, 2, 3, 0, 3, 4, 1, 2, 2, 2, 2, 1, 4, 3, 4, 2, 0, 2, 3, 4, 3, 3, 1, 3, 3, 0, 2, 2, 2, 3, 4, 1, 3, 4, 4, 2, 2, 0, 0, 2, 2, 1, 2, 4, 2, 3, 2, 0, 2, 1, 4, 2, 2, 4, 0, 2, 0, 4, 3, 0, 1, 1, 1, 0, 2, 0, 3, 0, 4, 1, 3, 3, 1, 4, 4, 1, 1, 1, 2, 1, 1, 0, 2, 3, 0, 1, 3, 1, 0, 4, 2, 4, 2, 1, 2, 3, 1, 1, 2, 3, 3, 1, 1, 3, 1, 0, 2, 2, 4, 2, 0, 0, 1, 4, 4, 3, 3, 3, 2, 1, 4, 1, 0, 3, 0, 2, 2, 3, 1, 4, 4, 4, 1, 3, 0, 4, 0, 0, 0, 4, 3, 3, 4, 0, 1, 1, 0, 3, 2, 3, 2, 0, 4, 3, 4, 2, 4, 0, 1, 4, 2, 0, 4, 1, 1, 4, 1, 4, 1, 4, 0, 0, 3, 2, 3, 1, 3, 3, 0, 2, 4, 4, 3, 4, 2, 2, 0, 4, 0, 0, 4, 4, 4, 0, 0, 0, 0, 2, 1, 3, 4, 0, 3, 2, 2, 0, 2, 3, 3, 2, 3, 0, 1, 3, 0, 4, 0, 0, 2, 4, 3, 2, 1, 1, 2, 1, 1, 4, 0, 1, 2, 2, 0, 1, 3, 4, 4, 2, 4, 2, 3, 2, 1, 3, 3, 0, 1, 0, 0, 3, 1, 2, 2, 3, 3, 3, 4, 4, 4, 2, 0, 2, 2, 2, 4, 2, 4, 3, 2, 4, 2, 1, 1, 4, 4, 0, 3, 4, 3, 4, 0, 2, 1, 4, 4, 1, 0, 1, 1, 2, 1, 0, 1, 2, 0, 4, 3, 3, 2, 1, 1, 2, 0, 0, 4, 1, 0, 0, 4, 3, 4, 1, 3, 1, 1, 2, 1, 0, 3, 3, 0, 3, 3, 3, 3, 0, 4, 3, 3, 3, 0, 3, 1, 3, 1, 1, 3, 0, 0, 1, 3, 3, 3, 1, 0, 2, 4, 4, 4, 1, 0, 0, 1, 1, 3, 3, 0, 1, 0, 2, 3, 4, 1, 0, 1, 4, 0, 0, 0, 0, 1, 0, 1, 2, 2, 1, 1, 2, 1, 3, 1, 2, 0, 1, 3, 0, 4, 3, 3, 1, 3, 1, 4, 1, 3, 4, 4, 0, 0, 3, 4, 2, 3, 2, 4, 4, 0, 3, 2, 1, 1, 2, 1, 3, 3, 4, 2, 2, 3, 1, 0, 4, 3, 3, 3, 0, 4, 4, 2, 3, 2, 2, 4, 1, 1, 3, 4, 4, 3, 4, 4, 4, 2, 1, 2, 3, 1, 1, 2, 0, 2, 0, 4, 3, 2, 0, 4, 3, 1, 2, 2, 3, 3, 0, 0, 0, 1, 4, 0, 4, 2, 2, 4, 2, 4, 2, 1, 2, 1, 3, 3, 4, 0, 4, 1, 0, 4, 4, 3, 4, 4, 2, 0, 0, 2, 3, 4, 3, 2, 4, 1, 2, 1, 4, 3, 1, 2, 2, 4, 4, 2, 3, 2, 3, 4, 4, 2, 1, 4, 4, 4, 3, 4, 1, 2, 4, 1, 0, 0, 4, 2, 2, 3, 2, 3, 4, 2, 1, 4, 2, 3, 1, 3, 4, 3, 3, 2, 2, 3, 0, 1, 1, 3, 1, 2, 2, 3, 0, 4, 4, 0, 2, 2, 2, 4, 3, 0, 2, 4, 1, 1, 0, 4, 4, 3, 4, 1, 2, 0, 0, 4, 4, 3, 4, 4, 0, 0, 4, 0, 4, 4, 3, 3, 0, 1, 0, 4, 0, 1, 3, 3, 1, 2, 0, 2, 2, 0, 1, 2, 0, 2, 0, 4, 4, 1, 2, 0, 4, 0, 2, 1, 4, 2, 2, 4, 4, 3, 0, 3, 1, 3, 4, 0, 3, 4, 4, 3, 2, 4, 2, 1, 0, 4, 2, 3, 2, 0, 3, 3, 4, 1, 4, 1, 2, 1, 4, 3, 3, 1, 4, 2, 0, 4, 1, 4, 1, 3, 3, 1, 4, 2, 2, 0, 2, 1, 1, 2, 4, 3, 4, 3, 4, 1, 2, 1, 2, 3, 1, 1, 4, 4, 1, 1, 4, 2, 3, 2, 4, 0, 4, 3, 3, 2, 3, 0, 2, 2, 1, 3, 1, 4, 4, 0, 0, 1, 3, 1, 3, 0, 2, 1, 2, 1, 1, 3, 4, 0, 1, 1, 0, 3, 4, 3, 0, 0, 2, 3, 3, 2, 1, 1, 4, 4, 0, 2, 1, 1, 2, 2, 2, 1, 2, 0, 4, 1, 1, 2, 0, 4, 3, 2, 2, 1, 4, 0, 3, 3, 2, 1, 2, 2, 4, 4, 1, 1, 2, 2, 4, 0, 0, 4, 4, 2, 4, 4, 4, 3, 2, 1, 0, 3, 3, 1, 1, 3, 0, 0, 2, 4, 1, 0, 1, 0, 2, 3, 2, 3, 0, 1, 3, 2, 0, 1, 0, 3, 2, 4, 0, 4, 4, 0, 3, 0, 4, 4, 0, 3, 0, 3, 2, 0, 2, 4, 4, 4, 2, 3, 0, 2, 0, 1, 0, 4, 3, 3, 4, 2, 2, 3, 3, 3, 0, 4, 4, 0, 1, 0, 4, 3, 4, 2, 1, 2, 1, 2, 2, 0, 0, 4, 2, 1, 1, 0, 0, 3, 0, 1, 4, 2, 0, 4, 4, 4, 2, 4, 3, 1, 3, 2, 1, 0, 0, 0, 1, 4, 3, 1, 0, 4, 0, 3, 0, 0, 0, 0, 3, 3, 2, 2, 2, 4, 2, 1, 4, 1, 4, 1, 2, 4, 0, 4, 2, 0, 4, 2, 3, 4, 0, 3, 3, 4, 0, 1, 3, 2, 0, 4, 1, 3, 3, 0, 2, 2, 4, 3, 3, 0, 3, 3, 3, 2, 3, 1, 3, 1, 1, 1, 2, 0, 4, 2, 2, 2, 0, 2, 0, 4, 3, 0, 2, 3, 0, 4, 1, 0, 2, 0, 1, 4, 4, 1, 0, 1, 2, 1, 2, 2, 0, 3, 1, 4, 3, 4, 3, 3, 3, 4, 0, 1, 2, 0, 4, 0, 1, 2, 0, 4, 1, 4, 4, 3, 4, 3, 1, 0, 0, 0, 2, 3, 4, 3, 3, 0, 2, 4, 4, 3, 3, 0, 4, 2, 0, 4, 0, 3, 4, 1, 1, 2, 0, 0, 1, 0, 2, 3, 2, 2, 0, 0, 2, 3, 3, 3, 3, 4, 3, 3, 1, 1, 4, 4, 2, 4, 2, 1, 4, 4, 4, 4, 2, 4, 1, 1, 3, 1, 3, 3, 1, 1, 1, 0, 4, 1, 0, 3, 4, 1, 2, 3, 2, 3, 3, 3, 4, 1, 1, 0, 3, 1, 1, 0, 3, 3, 2, 1, 3, 2, 0, 1, 0, 3, 2, 0, 1, 2, 2, 3, 0, 2, 4, 2, 3, 4, 3, 0, 4, 0, 2, 1, 0, 4, 3, 4, 1, 4, 3, 4, 4, 4, 3, 0, 4, 1, 1, 4, 4, 2, 1, 4, 4, 4, 4, 0, 1, 4, 2, 4, 1, 0, 1, 1, 3, 0, 1, 1, 0, 0, 0, 1, 1, 1, 1, 2, 4, 1, 1, 4, 0, 0, 2, 2, 3, 4, 4, 1, 4, 0, 1, 1, 4, 2, 3, 0, 1, 0, 0, 3, 1, 2, 0, 4, 3, 2, 3, 4, 2, 2, 4, 3, 4, 4, 2, 0, 2, 2, 3, 4, 3, 1, 3, 0, 1, 0, 2, 3, 3, 2, 4, 3, 4, 0, 4, 4, 4, 1, 2, 4, 0, 0, 4, 3, 0, 4, 2, 4, 2, 3, 2, 2, 4, 2, 3, 2, 3, 1, 2, 1, 0, 4, 4, 4, 3, 1, 4, 3, 0, 3, 2, 3, 1, 0, 0, 0, 2, 3, 3, 0, 4, 4, 4, 3, 3, 2, 4, 1, 1, 4, 2, 0, 3, 1, 2, 3, 4, 4, 4, 1, 3, 3, 0, 0, 3, 3, 2, 3, 3, 1, 0, 1, 1, 3, 0, 2, 2, 3, 2, 4, 4, 3, 1, 1, 0, 4, 2, 0, 3, 3, 4, 0, 2, 1, 1, 0, 3, 4, 4, 2, 0, 1, 4, 2, 0, 1, 2, 2, 3, 1, 0, 0, 2, 0, 1, 0, 2, 3, 4, 1, 2, 1, 3, 3, 4, 4, 0, 0, 2, 2, 2, 3, 1, 1, 2, 4, 0, 3, 2, 4, 3, 1, 4, 2, 3, 4, 2, 3, 3, 1, 2, 2, 3, 0, 4, 1, 4, 4, 4, 3, 4, 4, 1, 3, 3, 3, 1, 4, 4, 4, 0, 3, 3, 0, 1, 0, 3, 4, 2, 3, 2, 2, 4, 4, 0, 3, 2, 4, 1, 3, 1, 2, 3, 1, 2, 2, 3, 2, 1, 3, 1, 3, 4, 2, 1, 4, 3, 0, 1, 1, 3, 4, 3, 3, 0, 0, 0, 0, 1, 4, 1, 2, 4, 2, 0, 0, 1, 2, 1, 3, 0, 1, 3, 4, 3, 0, 0, 0, 1, 0, 4, 1, 2, 1, 3, 3, 0, 0, 0, 1, 2, 0, 1, 1, 2, 0, 4, 0, 1, 0, 0, 2, 4, 3, 3, 0, 0, 3, 1, 1, 3, 3, 2, 1, 4, 3, 3, 3, 2, 1, 4, 4, 2, 4, 1, 0, 3, 4, 2, 2, 2, 1, 4, 0, 0, 4, 1, 0, 4, 4, 1, 3, 0, 2, 3, 4, 2, 3, 4, 2, 4, 2, 4, 4, 4, 1, 3, 3, 2, 4, 2, 4, 1, 3, 1, 0, 1, 1, 4, 0, 2, 3, 1, 4, 1, 1, 1, 0, 1, 2, 4, 0, 2, 2, 1, 2, 2, 1, 1, 2, 1, 2, 0, 3, 2, 2, 1, 2, 4, 3, 2, 2, 0, 3, 0, 1, 4, 3, 2, 1, 2, 1, 4, 4, 0, 2, 4, 3, 2, 4, 0, 4, 1, 1, 3, 4, 4, 0, 0, 4, 1, 3, 1, 1, 0, 4, 4, 4, 1, 4, 1, 3, 2, 3, 4, 2, 0, 0, 0, 3, 2, 1, 2, 0, 0, 1, 3, 4, 4, 2, 2, 3, 3, 2, 0, 0, 4, 1, 2, 0, 4, 0, 4, 0, 0, 4, 2, 0, 3, 2, 1, 0, 4, 4, 3, 4, 1, 2, 2, 4, 2, 3, 2, 4, 2, 4, 3, 3, 4, 3, 4, 0, 3, 3, 2, 0, 1, 1, 3, 3, 0, 0, 1, 2, 3, 3, 1, 0, 1, 0, 2, 0, 3, 3, 3, 1, 2, 4, 4, 4, 3, 3, 3, 1, 1, 1, 4, 4, 4, 3, 0, 3, 2, 4, 1, 3, 4, 2, 4, 4, 1, 4, 1, 0, 2, 4, 1, 3, 0, 3, 2, 4, 2, 4, 3, 2, 2, 1, 3, 0, 3, 0, 1, 1, 4, 1, 2, 3, 0, 3, 1, 2, 3, 4, 3, 4, 0, 4, 3, 1, 3, 0, 4, 3, 0, 0, 3, 0, 3, 2, 4, 0, 4, 4, 0, 4, 2, 0, 0, 0, 0, 3, 0, 0, 2, 2, 0, 0, 0, 1, 0, 0, 2, 3, 0, 0, 0, 1, 1, 2, 4, 4, 4, 0, 3, 4, 1, 3, 1, 2, 3, 2, 1, 0, 3, 3, 0, 3, 2, 0, 3, 4, 1, 2, 2, 1, 0, 4, 0, 3, 3, 2, 4, 3, 3, 0, 2, 4, 1, 0, 1, 0, 4, 4, 3, 1, 2, 3, 3, 1, 2, 3, 4, 0, 0, 1, 4, 2, 4, 1, 1, 2, 2, 0, 2, 0, 2, 1, 4, 4, 2, 3, 4, 4, 3, 2, 1, 0, 4, 1, 3, 3, 3, 0, 4, 4, 4, 1, 3, 4, 4, 1, 2, 3, 2, 3, 4, 3, 3, 1, 1, 4, 0, 2, 2, 4, 2, 0, 1, 0, 3, 1, 0, 0, 2, 4, 0, 3, 3, 3, 3, 3, 1, 0, 0, 3, 0, 4, 2, 4, 2, 0, 4, 4, 3, 0, 2, 2, 2, 1, 2, 0, 3, 4, 1, 4, 0, 0, 0, 2, 4, 3, 2, 3, 3, 1, 0, 0, 1, 3, 3, 3, 4, 3, 3, 1, 1, 4, 2, 2, 4, 0, 1, 0, 3, 3, 0, 0, 4, 2, 1, 1, 4, 1, 3, 1, 0, 2, 0, 1, 3, 0, 3, 0, 0, 0, 2, 0, 2, 1, 1, 0, 1, 4, 4, 3, 0, 1, 1, 1, 2, 2, 2, 4, 2, 1, 0, 2, 2, 0, 4, 0, 3, 3, 0, 3, 1, 4, 4, 4, 2, 0, 3, 2, 1, 2, 0, 3, 2, 2, 1, 4, 3, 0, 4, 2, 1, 2, 1, 0, 1, 3, 2, 2, 2, 2, 1, 0, 3, 4, 0, 4, 3, 2, 0, 0, 4, 4, 4, 0, 3, 0, 4, 1, 0, 2, 2, 4, 2, 1, 4, 0, 4, 0, 0, 2, 2, 0, 3, 1, 1, 1, 1, 0, 2, 3, 2, 0, 2, 1, 2, 3, 2, 0, 4, 4, 3, 3, 0, 0, 1, 0, 3, 0, 3, 4, 3, 0, 2, 2, 0, 2, 4, 4, 3, 1, 0, 2, 2, 0, 3, 3, 1, 3, 3, 0, 4, 3, 4, 1, 2, 2, 4, 4, 0, 4, 1, 3, 1, 2, 1, 0, 2, 4, 4, 0, 3, 0, 2, 3, 4, 1, 2, 3, 2, 3, 4, 1, 1, 2, 4, 0, 3, 2, 4, 2, 0, 2, 1, 2, 4, 4, 1, 3, 3, 3, 0, 0, 3, 1, 1, 3, 2, 4, 3, 3, 2, 4, 4, 2, 2, 1, 3, 0, 0, 0, 4, 0, 4, 3, 0, 2, 2, 4, 4, 0, 1, 2, 1, 1, 1, 4, 2, 4, 4, 1, 3, 4, 2, 2, 2, 0, 1, 3, 2, 0, 4, 0, 0, 4, 4, 3, 4, 0, 3, 4, 3, 3, 0, 3, 2, 3, 3, 4, 3, 2, 4, 2, 0, 0, 1, 3, 4, 1, 3, 0, 2, 4, 2, 0, 3, 0, 0, 3, 1, 0, 4, 3, 0, 1, 2, 4, 1, 4, 4, 1, 0, 4, 4, 0, 4, 1, 4, 0, 1, 4, 2, 1, 2, 1, 3, 2, 3, 3, 3, 2, 0, 3, 1, 2, 0, 4, 0, 2, 4, 1, 2, 3, 0, 4, 0, 1, 2, 0, 3, 1, 2, 0, 4, 3, 4, 3, 3, 0, 3, 4, 2, 1, 1, 1, 0, 2, 4, 4, 4, 2, 4, 1, 2, 1, 4, 3, 4, 4, 3, 4, 4, 2, 1, 3, 0, 0, 2, 2, 4, 0, 0, 2, 2, 2, 4, 2, 4, 0, 4, 3, 0, 2, 4, 0, 1, 0, 4, 4, 3, 1, 3, 2, 4, 1, 1, 3, 0, 4, 1, 2, 0, 3, 0, 3, 1, 0, 4, 4, 1, 0, 1, 0, 3, 0, 0, 1, 3, 3, 2, 4, 3, 2, 4, 0, 1, 4, 2, 3, 4, 4, 1, 4, 4, 4, 0, 2, 0, 1, 2, 2, 4, 1, 0, 2, 0, 3, 0, 0, 0, 4, 1, 2, 0, 0, 0, 2, 0, 3, 1, 2, 2, 0, 1, 0, 3, 0, 4, 3, 2, 0, 4, 1, 4, 1, 3, 2, 4, 2, 4, 0, 4, 3, 1, 0, 4, 0, 4, 1, 3, 1, 0, 1, 3, 4, 1, 1, 0, 2, 0, 3, 0, 2, 4, 4, 4, 4, 2, 2, 1, 3, 3, 2, 3, 3, 3, 4, 0, 3, 4, 0, 3, 1, 0, 1, 4, 0, 0, 3, 1, 2, 2, 4, 3, 0, 2, 3, 3, 0, 2, 0, 1, 0, 2, 3, 4, 1, 4, 3, 3, 0, 1, 2, 2, 3, 1, 0, 1, 0, 2, 1, 3, 4, 3, 3, 3, 2, 4, 0, 2, 4, 1, 4, 4, 2, 1, 3, 3, 3, 2, 4, 1, 0, 0, 0, 4, 0, 0, 4, 4, 0, 2, 4, 2, 2, 4, 4, 3, 4, 0, 4, 3, 4, 1, 0, 2, 0, 4, 2, 4, 1, 2, 2, 4, 4, 3, 0, 2, 2, 3, 4, 4, 2, 2, 3, 1, 1, 2, 0, 3, 4, 1, 2, 0, 0, 4, 4, 3, 1, 1, 3, 2, 2, 2, 2, 0, 0, 4, 2, 0, 1, 3, 4, 2, 1, 0, 3, 0, 3, 2, 1, 4, 2, 1, 1, 1, 3, 4, 2, 2, 1, 3, 0, 3, 4, 1, 4, 2, 1, 1, 1, 2, 3, 4, 2, 1, 2, 4, 1, 1, 2, 2, 1, 3, 1, 0, 1, 2, 2, 2, 4, 3, 0, 3, 2, 2, 3, 1, 4, 4, 4, 2, 1, 4, 4, 2, 2, 1, 1, 1, 2, 2, 0, 2, 2, 0, 4, 0, 1, 1, 1, 3, 0, 0, 3, 1, 1, 4, 2, 0, 0, 4, 4, 0, 1, 2, 3, 2, 0, 0, 2, 1, 1, 0, 4, 1, 2, 3, 0, 3, 0, 4, 1, 1, 0, 2, 1, 0, 1, 3, 0, 3, 3, 0, 0, 2, 4, 2, 0, 1, 1, 0, 1, 0, 1, 3, 2, 2, 1, 4, 1, 3, 1, 2, 2, 3, 2, 2, 4, 2, 3, 0, 2, 0, 3, 3, 1, 4, 3, 3, 1, 3, 4, 2, 4, 3, 1, 0, 4, 0, 1, 4, 3, 2, 0, 0, 1, 4, 3, 2, 4, 4, 3, 2, 4, 3, 2, 2, 1, 1, 4, 1, 3, 0, 2, 1, 0, 2, 4, 1, 2, 0, 1, 1, 3, 4, 2, 4, 3, 0, 0, 4, 2, 0, 2, 3, 3, 2, 0, 2, 3, 3, 0, 2, 0, 2, 0, 2, 4, 4, 2, 2, 0, 4, 3, 0, 1, 0, 2, 1, 2, 3, 0, 1, 1, 2, 3, 2, 1, 0, 0, 1, 4, 3, 2, 4, 3, 4, 0, 1, 1, 1, 3, 2, 1, 0, 2, 4, 2, 4, 2, 0, 0, 4, 1, 3, 1, 0, 0, 2, 0, 2, 2, 0, 3, 3, 4, 2, 2, 2, 2, 2, 3, 3, 0, 2, 4, 1, 0, 1, 2, 1, 2, 2, 4, 3, 3, 1, 1, 0, 1, 2, 1, 1, 1, 4, 4, 3, 3, 0, 3, 3, 4, 1, 2, 0, 3, 1, 4, 3, 2, 2, 3, 4, 4, 4, 3, 4, 0, 1, 0, 4, 2, 0, 0, 3, 0, 1, 3, 4, 0, 3, 4, 1, 0, 1, 0, 3, 0, 0, 0, 2, 1, 1, 1, 0, 0, 3, 1, 1, 0, 0, 0, 1, 3, 3, 0, 0, 3, 3, 4, 0, 0, 3, 2, 3, 1, 4, 2, 2, 1, 0, 0, 2, 1, 4, 1, 3, 2, 1, 2, 2, 2, 3, 1, 2, 3, 2, 2, 1, 1, 4, 4, 4, 0, 4, 1, 3, 1, 0, 3, 1, 4, 4, 4, 2, 2, 2, 3, 3, 3, 1, 4, 3, 0, 3, 3, 4, 3, 0, 0, 4, 0, 4, 4, 4, 4, 3, 1, 2, 3, 4, 2, 3, 3, 3, 2, 0, 3, 2, 3, 2, 3, 4, 2, 3, 4, 1, 4, 2, 3, 1, 2, 2, 4, 2, 0, 0, 4, 2, 0, 4, 4, 4, 4, 4, 0, 2, 1, 2, 3, 4, 1, 2, 1, 0, 3, 1, 2, 0, 4, 1, 4, 1, 3, 1, 0, 1, 1, 1, 2, 0, 0, 0, 2, 2, 4, 3, 4, 1, 3, 3, 0, 1, 1, 4, 2, 2, 1, 0, 2, 0, 0, 4, 0, 0, 0, 3, 4, 3, 1, 3, 4, 1, 3, 3, 1, 2, 3, 4, 0, 2, 3, 0, 1, 0, 3, 0, 2, 1, 2, 1, 3, 2, 4, 1, 2, 1, 2, 2, 0, 4, 1, 3, 1, 3, 3, 3, 4, 3, 3, 0, 3, 2, 0, 3, 0, 4, 0, 3, 3, 1, 1, 3, 2, 2, 1, 2, 3, 4, 3, 3, 4, 4, 3, 2, 2, 0, 2, 4, 2, 0, 0, 3, 2, 3, 0, 4, 3, 0, 3, 3, 3, 0, 4, 2, 3, 0, 1, 4, 0, 0, 0, 2, 0, 4, 4, 0, 4, 4, 1, 1, 2, 0, 2, 1, 4, 0, 3, 3, 1, 3, 1, 1, 1, 1, 0, 2, 2, 2, 1, 2, 3, 1, 3, 2, 4, 0, 0, 3, 1, 2, 1, 4, 2, 4, 3, 1, 0, 2, 0, 0, 0, 2, 4, 2, 2, 3, 3, 4, 1, 1, 2, 0, 2, 0, 1, 0, 4, 1, 0, 3, 1, 1, 1, 0, 0, 1, 4, 2, 4, 2, 3, 0, 3, 1, 4, 0, 2, 3, 4, 4, 0, 1, 3, 3, 3, 4, 1, 2, 1, 1, 3, 4, 3, 4, 0, 3, 3, 4, 4, 3, 0, 0, 2, 0, 4, 3, 1, 4, 1, 4, 1, 3, 0, 2, 1, 0, 0, 3, 1, 0, 4, 3, 3, 0, 3, 2, 4, 0, 2, 0, 4, 1, 4, 4, 3, 0, 0, 4, 3, 3, 0, 2, 1, 3, 2, 4, 0, 0, 2, 2, 3, 1, 4, 0, 4, 4, 1, 3, 2, 0, 1, 3, 0, 3, 3, 0, 3, 3, 4, 2, 1, 0, 1, 3, 1, 0, 0, 1, 3, 2, 2, 2, 2, 4, 0, 0, 4, 0, 1, 1, 2, 3, 3, 2, 1, 0, 3, 4, 4, 2, 0, 0, 1, 3, 2, 3, 1, 1, 1, 1, 2, 3, 3, 1, 0, 2, 2, 4, 2, 2, 1, 2, 4, 4, 3, 3, 2, 3, 3, 3, 0, 1, 0, 1, 4, 2, 1, 0, 1, 0, 4, 1, 4, 2, 1, 2, 3, 4, 1, 0, 4, 0, 2, 1, 4, 4, 1, 3, 4, 3, 1, 1, 0, 2, 2, 0, 3, 2, 1, 1, 4, 3, 0, 3, 0, 1, 4, 0, 3, 3, 4, 0, 1, 2, 1, 0, 0, 3, 1, 4, 4, 4, 4, 4, 0, 1, 0, 1, 3, 2, 3, 1, 4, 1, 2, 2, 0, 0, 1, 2, 0, 1, 3, 0, 1, 3, 2, 4, 3, 0, 3, 0, 0, 3, 2, 2, 3, 4, 2, 0, 4, 3, 1, 0, 4, 2, 3, 0, 3, 2, 3, 2, 0, 3, 1, 0, 1, 1, 4, 4, 1, 0, 3, 3, 1, 3, 0, 3, 2, 1, 3, 1, 0, 3, 2, 1, 0, 0, 4, 2, 1, 4, 1, 2, 4, 3, 2, 2, 2, 0, 1, 3, 0, 4, 2, 3, 2, 2, 3, 1, 0, 3, 1, 2, 3, 0, 1, 2, 4, 2, 0, 3, 3, 2, 1, 2, 2, 3, 1, 2, 4, 3, 0, 2, 1, 4, 2, 2, 1, 3, 4, 1, 4, 4, 2, 3, 2, 2, 2, 1, 1, 4, 2, 4, 0, 4, 1, 2, 3, 2, 3, 4, 1, 0, 2, 4, 2, 4, 4, 3, 1, 3, 3, 1, 0, 4, 4, 1, 1, 0, 2, 2, 1, 0, 1, 3, 2, 0, 3, 4, 4, 1, 2, 3, 1, 4, 4, 0, 1, 1, 3, 3, 1, 0, 0, 2, 1, 3, 3, 1, 2, 4, 4, 0, 2, 0, 1, 0, 0, 0, 4, 0, 2, 2, 2, 0, 4, 1, 3, 4, 1, 4, 4, 1, 2, 0, 2, 1, 0, 3, 0, 3, 2, 0, 0, 1, 0, 0, 0, 3, 3, 3, 0, 4, 1, 4, 2, 2, 2, 4, 2, 4, 2, 2, 4, 4, 3, 3, 3, 4, 4, 4, 3, 2, 4, 2, 4, 2, 4, 1, 2, 1, 0, 1, 0, 0, 2, 0, 4, 3, 3, 0, 2, 0, 4, 0, 1, 0, 3, 2, 2, 0, 4, 4, 2, 3, 2, 4, 1, 3, 3, 4, 2, 0, 3, 3, 1, 1, 3, 2, 4, 3, 3, 3, 1, 1, 0, 4, 0, 2, 0, 1, 3, 0, 2, 3, 0, 3, 2, 2, 3, 4, 1, 1, 1, 2, 3, 2, 2, 4, 3, 1, 3, 0, 1, 4, 4, 4, 4, 0, 4, 0, 1, 1, 0, 2, 2, 2, 4, 0, 2, 1, 3, 2, 3, 0, 4, 0, 2, 1, 1, 4, 2, 1, 0, 0, 3, 0, 4, 2, 1, 0, 1, 2, 0, 3, 0, 0, 1, 3, 2, 0, 0, 4, 2, 4, 2, 1, 3, 4, 4, 4, 3, 0, 4, 2, 4, 4, 0, 3, 4, 2, 4, 1, 0, 1, 3, 3, 2, 2, 4, 2, 2, 0, 3, 2, 2, 4, 0, 0, 1, 3, 1, 2, 0, 0, 0, 3, 1, 2, 2, 0, 4, 1, 2, 1, 1, 4, 1, 2, 2, 1, 2, 3, 3, 1, 0, 4, 4, 2, 3, 3, 4, 2, 3, 2, 2, 4, 2, 4, 4, 2, 0, 0, 4, 1, 3, 2, 2, 4, 2, 4, 2, 2, 4, 1, 4, 0, 3, 3, 0, 1, 3, 3, 3, 0, 3, 3, 0, 0, 1, 2, 2, 4, 0, 0, 4, 4, 4, 2, 0, 0, 2, 3, 1, 1, 2, 2, 0, 3, 0, 3, 0, 3, 2, 3, 4, 2, 2, 1, 0, 3, 3, 1, 3, 4, 1, 1, 1, 1, 1, 0, 3, 1, 0, 0, 1, 0, 3, 4, 1, 3, 0, 3, 2, 3, 2, 4, 1, 1, 2, 4, 2, 2, 4, 2, 4, 1, 2, 2, 0, 4, 2, 1, 0, 4, 1, 1, 4, 3, 3, 0, 3, 4, 3, 4, 3, 4, 0, 3, 4, 0, 0, 2, 2, 3, 4, 4, 4, 4, 2, 1, 3, 4, 1, 3, 3, 2, 1, 1, 0, 0, 1, 3, 3, 1, 2, 3, 1, 4, 2, 4, 3, 0, 3, 3, 0, 4, 2, 2, 0, 4, 2, 1, 0, 3, 0, 0, 4, 1, 4, 4, 0, 1, 4, 0, 4, 2, 2, 4, 1, 1, 2, 4, 1, 2, 0, 0, 0, 4, 4, 0, 3, 3, 2, 1, 2, 0, 2, 2, 3, 4, 4, 2, 0, 4, 3, 1, 4, 3, 4, 2, 0, 3, 0, 0, 4, 4, 2, 0, 4, 0, 1, 4, 1, 4, 2, 1, 0, 0, 2, 1, 2, 0, 3, 1, 2, 0, 4, 2, 4, 4, 2, 4, 2, 3, 1, 3, 3, 3, 1, 4, 3, 0, 4, 3, 3, 0, 0, 3, 0, 4, 1, 3, 1, 3, 3, 3, 4, 4, 0, 0, 0, 0, 0, 4, 4, 3, 0, 3, 0, 1, 2, 1, 1, 2, 0, 3, 1, 0, 1, 2, 2, 0, 4, 3, 1, 3, 2, 3, 4, 2, 4, 2, 1, 3, 0, 2, 3, 4, 4, 0, 0, 1, 0, 3, 2, 0, 4, 2, 0, 3, 0, 2, 0, 3, 1, 3, 2, 4, 0, 2, 3, 3, 3, 3, 2, 0, 3, 0, 2, 3, 3, 4, 4, 0, 1, 4, 3, 2, 3, 0, 3, 1, 0, 4, 0, 2, 0, 4, 1, 0, 1, 3, 4, 4, 1, 1, 1, 0, 0, 2, 3, 1, 3, 2, 4, 2, 1, 3, 3, 4, 4, 4, 3, 4, 4, 4, 0, 4, 4, 1, 0, 4, 2, 3, 4, 2, 2, 1, 2, 0, 1, 1, 4, 4, 0, 2, 2, 4, 2, 4, 4, 4, 0, 4, 4, 3, 1, 3, 1, 1, 0, 4, 1, 0, 4, 2, 0, 2, 0, 1, 2, 1, 2, 1, 1, 3, 1, 1, 1, 2, 0, 2, 3, 3, 2, 0, 0, 4, 4, 2, 4, 2, 4, 0, 0, 0, 1, 4, 3, 4, 2, 1, 2, 2, 4, 0, 3, 4, 2, 2, 1, 1, 3, 4, 3, 3, 1, 4, 1, 4, 4, 3, 1, 0, 0, 1, 2, 0, 0, 2, 2, 3, 0, 3, 3, 1, 2, 2, 2, 4, 1, 0, 2, 0, 3, 3, 4, 3, 0, 0, 0, 1, 0, 4, 4, 3, 0]\n"
     ]
    }
   ],
   "source": [
    "y_tests=y_test.values.ravel().tolist()\n",
    "print(y_tests)"
   ]
  },
  {
   "cell_type": "markdown",
   "id": "02c75b2a",
   "metadata": {},
   "source": [
    "### Result Anlysis"
   ]
  },
  {
   "cell_type": "markdown",
   "id": "eb288f88",
   "metadata": {},
   "source": [
    "$$Accuracy$$$$Score$$"
   ]
  },
  {
   "cell_type": "code",
   "execution_count": 43,
   "id": "58f7ce27",
   "metadata": {},
   "outputs": [
    {
     "name": "stdout",
     "output_type": "stream",
     "text": [
      "Validation accuracy of RandomForestClassifier is 95.72%\n"
     ]
    }
   ],
   "source": [
    "RF_accuracy=accuracy_score(y_true=y_tests,y_pred=RF_pred)\n",
    "print(f\"Validation accuracy of RandomForestClassifier is {RF_accuracy*100.0:.2f}%\")"
   ]
  },
  {
   "cell_type": "markdown",
   "id": "a2c3e149",
   "metadata": {},
   "source": [
    "$$Classification$$$$Report$$"
   ]
  },
  {
   "cell_type": "code",
   "execution_count": 44,
   "id": "5b8caf96",
   "metadata": {},
   "outputs": [
    {
     "name": "stdout",
     "output_type": "stream",
     "text": [
      "              precision    recall  f1-score   support\n",
      "\n",
      "      normal       0.94      0.87      0.91      1005\n",
      "         dos       0.99      0.97      0.98       940\n",
      "         r2l       0.95      0.97      0.96      1028\n",
      "       probe       0.94      0.98      0.96      1007\n",
      "         u2r       0.96      1.00      0.98      1020\n",
      "\n",
      "    accuracy                           0.96      5000\n",
      "   macro avg       0.96      0.96      0.96      5000\n",
      "weighted avg       0.96      0.96      0.96      5000\n",
      "\n"
     ]
    }
   ],
   "source": [
    "print(classification_report(y_true=y_tests,y_pred=RF_pred,target_names=class_labels))"
   ]
  },
  {
   "cell_type": "markdown",
   "id": "3c654153",
   "metadata": {},
   "source": [
    "$$Confusion$$$$Matrxi$$"
   ]
  },
  {
   "cell_type": "code",
   "execution_count": 45,
   "id": "bda25db0",
   "metadata": {},
   "outputs": [
    {
     "data": {
      "image/png": "[encoded data removed]",
      "text/plain": [
       "<Figure size 360x360 with 1 Axes>"
      ]
     },
     "metadata": {
      "needs_background": "light"
     },
     "output_type": "display_data"
    }
   ],
   "source": [
    "from mlxtend.plotting import plot_confusion_matrix\n",
    "ax=plot_confusion_matrix(conf_mat=confusion_matrix(y_true=y_tests,y_pred=RF_pred),\n",
    "                        figsize=(5,5),\n",
    "                        class_names=class_labels,\n",
    "                        cmap=plt.cm.Blues)\n",
    "plt.title(label='RandomForestClassifier Confusion Matrix')\n",
    "plt.xticks(rotation=90)\n",
    "plt.show()"
   ]
  },
  {
   "cell_type": "code",
   "execution_count": 47,
   "id": "2923dda3",
   "metadata": {},
   "outputs": [],
   "source": [
    "with open(file='models/RandomForestClassifier_model.pkl',mode='wb') as file:\n",
    "    pickle.dump(obj=RF_model,file=file)"
   ]
  }
 ],
 "metadata": {
  "kernelspec": {
   "display_name": "Python 3 (ipykernel)",
   "language": "python",
   "name": "python3"
  },
  "language_info": {
   "codemirror_mode": {
    "name": "ipython",
    "version": 3
   },
   "file_extension": ".py",
   "mimetype": "text/x-python",
   "name": "python",
   "nbconvert_exporter": "python",
   "pygments_lexer": "ipython3",
   "version": "3.9.7"
  }
 },
 "nbformat": 4,
 "nbformat_minor": 5
}
